{
 "cells": [
  {
   "cell_type": "markdown",
   "id": "c7bf06a4-bf48-4b87-a684-2f25699b9a3b",
   "metadata": {},
   "source": [
    "# Introduction.\n",
    "\n",
    "## Team Champion.\n",
    "\n",
    "1. Satyasriram Siva Krishna Sanam.\n",
    "2. Manoj Kumar Katakam.\n",
    "3. Jayanth Uppara.\n",
    "4. Bojanapally Santhoshini.\n",
    "\n",
    "In this Notebook we are going to look at the Census data which was extracted by Barry Becker in 1994 from the census database, which was sourced form UCI Machine Learning Repository .The name of our dataset is adult in which we have 14 features/attributes(age, workclass,fnlwgt,education,education_num, marital_status, occupation, relationship,race,sex,capital_gain,capital_loss, hrs_per_week and native_country) and 1 target variable income(binary).Using all the mentioned attributes our target variable is classified into >50k and <=50k Per Annum. As we are performing classification and our target variable is a binary so it's a binary classification task. We will be discussing the significance of each attribute further in this notebook. This dataset also enables us to derive insights societal and economic trends privotal in the mid-90s. This classification has many applications in Finance, Insurance, Credit-card fraud detection and marketing. \n",
    "\n",
    "This project involves the following steps \n",
    "1. Loading the data into a Spark DataFrame and displaying its schema.\n",
    "2. Modifying the data schema as needed to ensure it aligns with Spark requirements and our analysis.\n",
    "3. Carrying out necessary data transformations to make it suitable for analysis.\n",
    "4. Storing the transformed data in a persistent table for future reference\n",
    "5. Creating a temporary view of the dataset to facilitate exploration using Spark SQL.\n",
    "6. Investigating the data using Spark SQL, exhibiting understanding in generating aggregations and summaries to understand the correlations between different demographic characteristics and income levels also perform the income classification..\n",
    "\n",
    "\n",
    "### Applications.\n",
    "\n",
    "- Businesses can leverage the analysis to gain a deeper understanding of consumer demographics, preferences and purchasing power. This information can inform marketing strategies, product development and market segmentation enabling the companies to tailor their offerings to specific target audiences more effectively.\n",
    "- As we mentioned above the Bank and financial institutions can employ the analysis to assess credit risk, \n",
    "- Government agencies and Non-Profit oragnizations can utilize the analysis to identify weak populations, assess eligibility for welfare programs, and allocate resources efficiently. Understanding these factors which influence a person's socio-economic status can help the govts guide the implementation of welfare programmes aimed at improving well-being of the population.\n",
    "\n",
    "So, the first and foremost step for exploring our data using Spark SQL is to import the required packages and load the data into our environment."
   ]
  },
  {
   "cell_type": "markdown",
   "id": "68bb3352-08c3-4d62-871b-8234eca6a77d",
   "metadata": {},
   "source": [
    "### 0. Import the Required packages."
   ]
  },
  {
   "cell_type": "markdown",
   "id": "91635156-de94-4145-9eab-73f9eb3b26c4",
   "metadata": {},
   "source": [
    "In this step we are going to import the required packages we will be using for this assignment."
   ]
  },
  {
   "cell_type": "code",
   "execution_count": 1,
   "id": "bb810650-f93c-4af5-964a-5bbf6a4738cb",
   "metadata": {},
   "outputs": [
    {
     "name": "stdout",
     "output_type": "stream",
     "text": [
      "Requirement already satisfied: pyspark in /home/admin/miniforge3/envs/bd/lib/python3.11/site-packages (3.5.1)\n",
      "Requirement already satisfied: py4j==0.10.9.7 in /home/admin/miniforge3/envs/bd/lib/python3.11/site-packages (from pyspark) (0.10.9.7)\n"
     ]
    }
   ],
   "source": [
    "!pip install pyspark"
   ]
  },
  {
   "cell_type": "code",
   "execution_count": 2,
   "id": "a2ea961e-af2e-49c2-9097-c72d5366ed22",
   "metadata": {},
   "outputs": [],
   "source": [
    "from pyspark.sql import SparkSession\n",
    "from pyspark.sql.functions import col, when\n",
    "import numpy as np\n",
    "import pandas as pd\n",
    "import matplotlib.pyplot as plt\n",
    "import seaborn as sns\n",
    "from pyspark.sql.types import StructType, StructField, StringType, IntegerType, DoubleType\n",
    "from pyspark.ml.feature import StringIndexer,StandardScaler, VectorAssembler\n",
    "from pyspark.ml import Pipeline\n",
    "from pyspark.ml.classification import RandomForestClassifier\n",
    "from pyspark.ml.evaluation import BinaryClassificationEvaluator\n",
    "import findspark\n",
    "import warnings\n",
    "warnings.filterwarnings(\"ignore\")\n",
    "\n",
    "np.random.seed(42)"
   ]
  },
  {
   "cell_type": "markdown",
   "id": "ae52d5e7-41ae-45ce-83e4-ef9f2b79d4e9",
   "metadata": {},
   "source": [
    "### 1. Import the data."
   ]
  },
  {
   "cell_type": "markdown",
   "id": "0ecb133d-09a4-47bf-8fae-c7dd0608adee",
   "metadata": {},
   "source": [
    "In this step we are going to load our dataset into pandas dataframe and then convert it to Spark dataframe "
   ]
  },
  {
   "cell_type": "code",
   "execution_count": 3,
   "id": "5db4e8fd-977c-4c72-8078-52fc1ee66365",
   "metadata": {},
   "outputs": [
    {
     "name": "stdout",
     "output_type": "stream",
     "text": [
      "Requirement already satisfied: findspark in /home/admin/miniforge3/envs/bd/lib/python3.11/site-packages (2.0.1)\n",
      "Note: you may need to restart the kernel to use updated packages.\n"
     ]
    }
   ],
   "source": [
    "pip install findspark"
   ]
  },
  {
   "cell_type": "code",
   "execution_count": 4,
   "id": "5b90f9ea-bb90-4c2a-9294-6dcc8bacd7cd",
   "metadata": {},
   "outputs": [
    {
     "name": "stderr",
     "output_type": "stream",
     "text": [
      "Setting default log level to \"WARN\".\n",
      "To adjust logging level use sc.setLogLevel(newLevel). For SparkR, use setLogLevel(newLevel).\n",
      "24/04/14 17:33:22 WARN NativeCodeLoader: Unable to load native-hadoop library for your platform... using builtin-java classes where applicable\n"
     ]
    },
    {
     "name": "stdout",
     "output_type": "stream",
     "text": [
      "Spark Session WebUI Port: 4040\n"
     ]
    }
   ],
   "source": [
    "findspark.init()\n",
    "\n",
    "spark = SparkSession.builder.master(\"local[4]\").appName(\"ISM6562 Spark App01\").enableHiveSupport().getOrCreate();\n",
    "\n",
    "# Let's get the SparkContext object. It's the entry point to the Spark API. It's created when you create a sparksession\n",
    "sc = spark.sparkContext  \n",
    "\n",
    "# note: If you have multiple spark sessions running (like from a previous notebook you've run), \n",
    "# this spark session webUI will be on a different port than the default (4040). One way to \n",
    "# identify this part is with the following line. If there was only one spark session running, \n",
    "# this will be 4040. If it's higher, it means there are still other spark sesssions still running.\n",
    "spark_session_port = spark.sparkContext.uiWebUrl.split(\":\")[-1]\n",
    "print(\"Spark Session WebUI Port: \" + spark_session_port)"
   ]
  },
  {
   "cell_type": "code",
   "execution_count": 5,
   "id": "65e3cac5-0cd9-4787-8764-a9753c31b351",
   "metadata": {},
   "outputs": [],
   "source": [
    "sc.setLogLevel(\"ERROR\")"
   ]
  },
  {
   "cell_type": "code",
   "execution_count": 45,
   "id": "672aa34f-4516-4133-a190-c6ae83f7b64d",
   "metadata": {},
   "outputs": [
    {
     "data": {
      "text/html": [
       "<div>\n",
       "<style scoped>\n",
       "    .dataframe tbody tr th:only-of-type {\n",
       "        vertical-align: middle;\n",
       "    }\n",
       "\n",
       "    .dataframe tbody tr th {\n",
       "        vertical-align: top;\n",
       "    }\n",
       "\n",
       "    .dataframe thead th {\n",
       "        text-align: right;\n",
       "    }\n",
       "</style>\n",
       "<table border=\"1\" class=\"dataframe\">\n",
       "  <thead>\n",
       "    <tr style=\"text-align: right;\">\n",
       "      <th></th>\n",
       "      <th>age</th>\n",
       "      <th>workclass</th>\n",
       "      <th>fnlwgt</th>\n",
       "      <th>education</th>\n",
       "      <th>education-num</th>\n",
       "      <th>marital-status</th>\n",
       "      <th>occupation</th>\n",
       "      <th>relationship</th>\n",
       "      <th>race</th>\n",
       "      <th>sex</th>\n",
       "      <th>capital-gain</th>\n",
       "      <th>capital-loss</th>\n",
       "      <th>hours-per-week</th>\n",
       "      <th>native-country</th>\n",
       "      <th>income</th>\n",
       "    </tr>\n",
       "  </thead>\n",
       "  <tbody>\n",
       "    <tr>\n",
       "      <th>0</th>\n",
       "      <td>39</td>\n",
       "      <td>State-gov</td>\n",
       "      <td>77516</td>\n",
       "      <td>Bachelors</td>\n",
       "      <td>13</td>\n",
       "      <td>Never-married</td>\n",
       "      <td>Adm-clerical</td>\n",
       "      <td>Not-in-family</td>\n",
       "      <td>White</td>\n",
       "      <td>Male</td>\n",
       "      <td>2174</td>\n",
       "      <td>0</td>\n",
       "      <td>40</td>\n",
       "      <td>United-States</td>\n",
       "      <td>&lt;=50K</td>\n",
       "    </tr>\n",
       "    <tr>\n",
       "      <th>1</th>\n",
       "      <td>50</td>\n",
       "      <td>Self-emp-not-inc</td>\n",
       "      <td>83311</td>\n",
       "      <td>Bachelors</td>\n",
       "      <td>13</td>\n",
       "      <td>Married-civ-spouse</td>\n",
       "      <td>Exec-managerial</td>\n",
       "      <td>Husband</td>\n",
       "      <td>White</td>\n",
       "      <td>Male</td>\n",
       "      <td>0</td>\n",
       "      <td>0</td>\n",
       "      <td>13</td>\n",
       "      <td>United-States</td>\n",
       "      <td>&lt;=50K</td>\n",
       "    </tr>\n",
       "    <tr>\n",
       "      <th>2</th>\n",
       "      <td>38</td>\n",
       "      <td>Private</td>\n",
       "      <td>215646</td>\n",
       "      <td>HS-grad</td>\n",
       "      <td>9</td>\n",
       "      <td>Divorced</td>\n",
       "      <td>Handlers-cleaners</td>\n",
       "      <td>Not-in-family</td>\n",
       "      <td>White</td>\n",
       "      <td>Male</td>\n",
       "      <td>0</td>\n",
       "      <td>0</td>\n",
       "      <td>40</td>\n",
       "      <td>United-States</td>\n",
       "      <td>&lt;=50K</td>\n",
       "    </tr>\n",
       "    <tr>\n",
       "      <th>3</th>\n",
       "      <td>53</td>\n",
       "      <td>Private</td>\n",
       "      <td>234721</td>\n",
       "      <td>11th</td>\n",
       "      <td>7</td>\n",
       "      <td>Married-civ-spouse</td>\n",
       "      <td>Handlers-cleaners</td>\n",
       "      <td>Husband</td>\n",
       "      <td>Black</td>\n",
       "      <td>Male</td>\n",
       "      <td>0</td>\n",
       "      <td>0</td>\n",
       "      <td>40</td>\n",
       "      <td>United-States</td>\n",
       "      <td>&lt;=50K</td>\n",
       "    </tr>\n",
       "    <tr>\n",
       "      <th>4</th>\n",
       "      <td>28</td>\n",
       "      <td>Private</td>\n",
       "      <td>338409</td>\n",
       "      <td>Bachelors</td>\n",
       "      <td>13</td>\n",
       "      <td>Married-civ-spouse</td>\n",
       "      <td>Prof-specialty</td>\n",
       "      <td>Wife</td>\n",
       "      <td>Black</td>\n",
       "      <td>Female</td>\n",
       "      <td>0</td>\n",
       "      <td>0</td>\n",
       "      <td>40</td>\n",
       "      <td>Cuba</td>\n",
       "      <td>&lt;=50K</td>\n",
       "    </tr>\n",
       "  </tbody>\n",
       "</table>\n",
       "</div>"
      ],
      "text/plain": [
       "   age         workclass  fnlwgt  education  education-num  \\\n",
       "0   39         State-gov   77516  Bachelors             13   \n",
       "1   50  Self-emp-not-inc   83311  Bachelors             13   \n",
       "2   38           Private  215646    HS-grad              9   \n",
       "3   53           Private  234721       11th              7   \n",
       "4   28           Private  338409  Bachelors             13   \n",
       "\n",
       "       marital-status         occupation   relationship   race     sex  \\\n",
       "0       Never-married       Adm-clerical  Not-in-family  White    Male   \n",
       "1  Married-civ-spouse    Exec-managerial        Husband  White    Male   \n",
       "2            Divorced  Handlers-cleaners  Not-in-family  White    Male   \n",
       "3  Married-civ-spouse  Handlers-cleaners        Husband  Black    Male   \n",
       "4  Married-civ-spouse     Prof-specialty           Wife  Black  Female   \n",
       "\n",
       "   capital-gain  capital-loss  hours-per-week native-country income  \n",
       "0          2174             0              40  United-States  <=50K  \n",
       "1             0             0              13  United-States  <=50K  \n",
       "2             0             0              40  United-States  <=50K  \n",
       "3             0             0              40  United-States  <=50K  \n",
       "4             0             0              40           Cuba  <=50K  "
      ]
     },
     "execution_count": 45,
     "metadata": {},
     "output_type": "execute_result"
    }
   ],
   "source": [
    "# fetch dataset \n",
    "df = pd.read_csv('adult_data.csv')\n",
    "df.head()"
   ]
  },
  {
   "cell_type": "code",
   "execution_count": 46,
   "id": "46c99492-3af9-4a8c-8a99-cfe6959f5e54",
   "metadata": {},
   "outputs": [
    {
     "data": {
      "text/plain": [
       "age                int64\n",
       "workclass         object\n",
       "fnlwgt             int64\n",
       "education         object\n",
       "education-num      int64\n",
       "marital-status    object\n",
       "occupation        object\n",
       "relationship      object\n",
       "race              object\n",
       "sex               object\n",
       "capital-gain       int64\n",
       "capital-loss       int64\n",
       "hours-per-week     int64\n",
       "native-country    object\n",
       "income            object\n",
       "dtype: object"
      ]
     },
     "execution_count": 46,
     "metadata": {},
     "output_type": "execute_result"
    }
   ],
   "source": [
    "df.dtypes"
   ]
  },
  {
   "cell_type": "markdown",
   "id": "8c3fe49d-64b8-403d-a5d2-edf5910e3d2b",
   "metadata": {},
   "source": [
    "Before converting this into spark dataframe let's perform some data cleaning and then proceed to the dataframe conversion."
   ]
  },
  {
   "cell_type": "markdown",
   "id": "41de74db-6168-4878-8c82-86e49574e90b",
   "metadata": {},
   "source": [
    "Since we have a very small percentage of missing values which doesn't even account for 2% of the observations so we are going to drop the rows with this missing observations let's do that."
   ]
  },
  {
   "cell_type": "code",
   "execution_count": 47,
   "id": "463076cf-e835-40b0-8324-ee10fabba509",
   "metadata": {},
   "outputs": [],
   "source": [
    "# Drop rows with missing values\n",
    "df = df.dropna()"
   ]
  },
  {
   "cell_type": "code",
   "execution_count": 48,
   "id": "a7129458-994a-4c39-8e23-4d8bdc0fcef6",
   "metadata": {},
   "outputs": [
    {
     "data": {
      "text/plain": [
       "age               0\n",
       "workclass         0\n",
       "fnlwgt            0\n",
       "education         0\n",
       "education-num     0\n",
       "marital-status    0\n",
       "occupation        0\n",
       "relationship      0\n",
       "race              0\n",
       "sex               0\n",
       "capital-gain      0\n",
       "capital-loss      0\n",
       "hours-per-week    0\n",
       "native-country    0\n",
       "income            0\n",
       "dtype: int64"
      ]
     },
     "execution_count": 48,
     "metadata": {},
     "output_type": "execute_result"
    }
   ],
   "source": [
    "df.isna().sum()"
   ]
  },
  {
   "cell_type": "code",
   "execution_count": 49,
   "id": "3e435310-dda1-43b9-9dbe-f469c9c2da74",
   "metadata": {},
   "outputs": [],
   "source": [
    "# Define the dictionary for renaming columns\n",
    "cols_rename = {\n",
    "    'age': 'age',\n",
    "    'workclass': 'workclass',\n",
    "    'fnlwgt': 'fnl_wgt',\n",
    "    'education': 'education',\n",
    "    'education-num': 'education_num',\n",
    "    'marital-status': 'marital_status',\n",
    "    'occupation': 'occupation',\n",
    "    'relationship': 'relationship',\n",
    "    'race': 'race',\n",
    "    'sex': 'sex',\n",
    "    'capital-gain': 'capital_gain',\n",
    "    'capital-loss': 'capital_loss',\n",
    "    'hours-per-week': 'hours_per_week',\n",
    "    'native-country': 'native_country',\n",
    "    'income': 'income'\n",
    "}\n",
    "\n",
    "# Rename columns in the DataFrame\n",
    "df.rename(columns=cols_rename, inplace=True)"
   ]
  },
  {
   "cell_type": "code",
   "execution_count": 50,
   "id": "86225f55-4cc4-43c5-b510-dc4f40a4b4ff",
   "metadata": {},
   "outputs": [
    {
     "data": {
      "text/html": [
       "<div>\n",
       "<style scoped>\n",
       "    .dataframe tbody tr th:only-of-type {\n",
       "        vertical-align: middle;\n",
       "    }\n",
       "\n",
       "    .dataframe tbody tr th {\n",
       "        vertical-align: top;\n",
       "    }\n",
       "\n",
       "    .dataframe thead th {\n",
       "        text-align: right;\n",
       "    }\n",
       "</style>\n",
       "<table border=\"1\" class=\"dataframe\">\n",
       "  <thead>\n",
       "    <tr style=\"text-align: right;\">\n",
       "      <th></th>\n",
       "      <th>age</th>\n",
       "      <th>workclass</th>\n",
       "      <th>fnl_wgt</th>\n",
       "      <th>education</th>\n",
       "      <th>education_num</th>\n",
       "      <th>marital_status</th>\n",
       "      <th>occupation</th>\n",
       "      <th>relationship</th>\n",
       "      <th>race</th>\n",
       "      <th>sex</th>\n",
       "      <th>capital_gain</th>\n",
       "      <th>capital_loss</th>\n",
       "      <th>hours_per_week</th>\n",
       "      <th>native_country</th>\n",
       "      <th>income</th>\n",
       "    </tr>\n",
       "  </thead>\n",
       "  <tbody>\n",
       "    <tr>\n",
       "      <th>0</th>\n",
       "      <td>39</td>\n",
       "      <td>State-gov</td>\n",
       "      <td>77516</td>\n",
       "      <td>Bachelors</td>\n",
       "      <td>13</td>\n",
       "      <td>Never-married</td>\n",
       "      <td>Adm-clerical</td>\n",
       "      <td>Not-in-family</td>\n",
       "      <td>White</td>\n",
       "      <td>Male</td>\n",
       "      <td>2174</td>\n",
       "      <td>0</td>\n",
       "      <td>40</td>\n",
       "      <td>United-States</td>\n",
       "      <td>&lt;=50K</td>\n",
       "    </tr>\n",
       "    <tr>\n",
       "      <th>1</th>\n",
       "      <td>50</td>\n",
       "      <td>Self-emp-not-inc</td>\n",
       "      <td>83311</td>\n",
       "      <td>Bachelors</td>\n",
       "      <td>13</td>\n",
       "      <td>Married-civ-spouse</td>\n",
       "      <td>Exec-managerial</td>\n",
       "      <td>Husband</td>\n",
       "      <td>White</td>\n",
       "      <td>Male</td>\n",
       "      <td>0</td>\n",
       "      <td>0</td>\n",
       "      <td>13</td>\n",
       "      <td>United-States</td>\n",
       "      <td>&lt;=50K</td>\n",
       "    </tr>\n",
       "    <tr>\n",
       "      <th>2</th>\n",
       "      <td>38</td>\n",
       "      <td>Private</td>\n",
       "      <td>215646</td>\n",
       "      <td>HS-grad</td>\n",
       "      <td>9</td>\n",
       "      <td>Divorced</td>\n",
       "      <td>Handlers-cleaners</td>\n",
       "      <td>Not-in-family</td>\n",
       "      <td>White</td>\n",
       "      <td>Male</td>\n",
       "      <td>0</td>\n",
       "      <td>0</td>\n",
       "      <td>40</td>\n",
       "      <td>United-States</td>\n",
       "      <td>&lt;=50K</td>\n",
       "    </tr>\n",
       "    <tr>\n",
       "      <th>3</th>\n",
       "      <td>53</td>\n",
       "      <td>Private</td>\n",
       "      <td>234721</td>\n",
       "      <td>11th</td>\n",
       "      <td>7</td>\n",
       "      <td>Married-civ-spouse</td>\n",
       "      <td>Handlers-cleaners</td>\n",
       "      <td>Husband</td>\n",
       "      <td>Black</td>\n",
       "      <td>Male</td>\n",
       "      <td>0</td>\n",
       "      <td>0</td>\n",
       "      <td>40</td>\n",
       "      <td>United-States</td>\n",
       "      <td>&lt;=50K</td>\n",
       "    </tr>\n",
       "    <tr>\n",
       "      <th>4</th>\n",
       "      <td>28</td>\n",
       "      <td>Private</td>\n",
       "      <td>338409</td>\n",
       "      <td>Bachelors</td>\n",
       "      <td>13</td>\n",
       "      <td>Married-civ-spouse</td>\n",
       "      <td>Prof-specialty</td>\n",
       "      <td>Wife</td>\n",
       "      <td>Black</td>\n",
       "      <td>Female</td>\n",
       "      <td>0</td>\n",
       "      <td>0</td>\n",
       "      <td>40</td>\n",
       "      <td>Cuba</td>\n",
       "      <td>&lt;=50K</td>\n",
       "    </tr>\n",
       "  </tbody>\n",
       "</table>\n",
       "</div>"
      ],
      "text/plain": [
       "   age         workclass  fnl_wgt  education  education_num  \\\n",
       "0   39         State-gov    77516  Bachelors             13   \n",
       "1   50  Self-emp-not-inc    83311  Bachelors             13   \n",
       "2   38           Private   215646    HS-grad              9   \n",
       "3   53           Private   234721       11th              7   \n",
       "4   28           Private   338409  Bachelors             13   \n",
       "\n",
       "       marital_status         occupation   relationship   race     sex  \\\n",
       "0       Never-married       Adm-clerical  Not-in-family  White    Male   \n",
       "1  Married-civ-spouse    Exec-managerial        Husband  White    Male   \n",
       "2            Divorced  Handlers-cleaners  Not-in-family  White    Male   \n",
       "3  Married-civ-spouse  Handlers-cleaners        Husband  Black    Male   \n",
       "4  Married-civ-spouse     Prof-specialty           Wife  Black  Female   \n",
       "\n",
       "   capital_gain  capital_loss  hours_per_week native_country income  \n",
       "0          2174             0              40  United-States  <=50K  \n",
       "1             0             0              13  United-States  <=50K  \n",
       "2             0             0              40  United-States  <=50K  \n",
       "3             0             0              40  United-States  <=50K  \n",
       "4             0             0              40           Cuba  <=50K  "
      ]
     },
     "execution_count": 50,
     "metadata": {},
     "output_type": "execute_result"
    }
   ],
   "source": [
    "df.head()"
   ]
  },
  {
   "cell_type": "code",
   "execution_count": 51,
   "id": "4335043f-4028-4938-87ce-4ac1ba76764e",
   "metadata": {},
   "outputs": [
    {
     "data": {
      "text/plain": [
       "array(['<=50K', '>50K', '<=50K.', '>50K.'], dtype=object)"
      ]
     },
     "execution_count": 51,
     "metadata": {},
     "output_type": "execute_result"
    }
   ],
   "source": [
    "df['income'].unique()"
   ]
  },
  {
   "cell_type": "code",
   "execution_count": 52,
   "id": "57185b34-38ea-41fd-a425-22f5cbdeddaa",
   "metadata": {},
   "outputs": [],
   "source": [
    "df['income'] = df['income'].str.replace('<=50K.', '<=50K', regex=True).str.replace('>50K.', '>50K', regex=True)"
   ]
  },
  {
   "cell_type": "code",
   "execution_count": 53,
   "id": "7181e92c-987f-47a0-ae3b-06b1091894a4",
   "metadata": {},
   "outputs": [],
   "source": [
    "df['income'] = ['0' if value == '<=50K' else '1' for value in df['income']]"
   ]
  },
  {
   "cell_type": "code",
   "execution_count": 54,
   "id": "4f7d4cbf-1b94-4708-956b-d016bfc8b450",
   "metadata": {},
   "outputs": [],
   "source": [
    "df['income'] = df['income'].astype('int')"
   ]
  },
  {
   "cell_type": "code",
   "execution_count": 55,
   "id": "47641b0a-6b40-4777-ba75-3b432d7956b8",
   "metadata": {},
   "outputs": [
    {
     "name": "stdout",
     "output_type": "stream",
     "text": [
      "+---+----------------+-------+------------+-------------+--------------------+-----------------+-------------+------------------+------+------------+------------+--------------+--------------+------+\n",
      "|age|       workclass|fnl_wgt|   education|education_num|      marital_status|       occupation| relationship|              race|   sex|capital_gain|capital_loss|hours_per_week|native_country|income|\n",
      "+---+----------------+-------+------------+-------------+--------------------+-----------------+-------------+------------------+------+------------+------------+--------------+--------------+------+\n",
      "| 39|       State-gov|  77516|   Bachelors|           13|       Never-married|     Adm-clerical|Not-in-family|             White|  Male|        2174|           0|            40| United-States|     0|\n",
      "| 50|Self-emp-not-inc|  83311|   Bachelors|           13|  Married-civ-spouse|  Exec-managerial|      Husband|             White|  Male|           0|           0|            13| United-States|     0|\n",
      "| 38|         Private| 215646|     HS-grad|            9|            Divorced|Handlers-cleaners|Not-in-family|             White|  Male|           0|           0|            40| United-States|     0|\n",
      "| 53|         Private| 234721|        11th|            7|  Married-civ-spouse|Handlers-cleaners|      Husband|             Black|  Male|           0|           0|            40| United-States|     0|\n",
      "| 28|         Private| 338409|   Bachelors|           13|  Married-civ-spouse|   Prof-specialty|         Wife|             Black|Female|           0|           0|            40|          Cuba|     0|\n",
      "| 37|         Private| 284582|     Masters|           14|  Married-civ-spouse|  Exec-managerial|         Wife|             White|Female|           0|           0|            40| United-States|     0|\n",
      "| 49|         Private| 160187|         9th|            5|Married-spouse-ab...|    Other-service|Not-in-family|             Black|Female|           0|           0|            16|       Jamaica|     0|\n",
      "| 52|Self-emp-not-inc| 209642|     HS-grad|            9|  Married-civ-spouse|  Exec-managerial|      Husband|             White|  Male|           0|           0|            45| United-States|     1|\n",
      "| 31|         Private|  45781|     Masters|           14|       Never-married|   Prof-specialty|Not-in-family|             White|Female|       14084|           0|            50| United-States|     1|\n",
      "| 42|         Private| 159449|   Bachelors|           13|  Married-civ-spouse|  Exec-managerial|      Husband|             White|  Male|        5178|           0|            40| United-States|     1|\n",
      "| 37|         Private| 280464|Some-college|           10|  Married-civ-spouse|  Exec-managerial|      Husband|             Black|  Male|           0|           0|            80| United-States|     1|\n",
      "| 30|       State-gov| 141297|   Bachelors|           13|  Married-civ-spouse|   Prof-specialty|      Husband|Asian-Pac-Islander|  Male|           0|           0|            40|         India|     1|\n",
      "| 23|         Private| 122272|   Bachelors|           13|       Never-married|     Adm-clerical|    Own-child|             White|Female|           0|           0|            30| United-States|     0|\n",
      "| 32|         Private| 205019|  Assoc-acdm|           12|       Never-married|            Sales|Not-in-family|             Black|  Male|           0|           0|            50| United-States|     0|\n",
      "| 40|         Private| 121772|   Assoc-voc|           11|  Married-civ-spouse|     Craft-repair|      Husband|Asian-Pac-Islander|  Male|           0|           0|            40|             ?|     1|\n",
      "| 34|         Private| 245487|     7th-8th|            4|  Married-civ-spouse| Transport-moving|      Husband|Amer-Indian-Eskimo|  Male|           0|           0|            45|        Mexico|     0|\n",
      "| 25|Self-emp-not-inc| 176756|     HS-grad|            9|       Never-married|  Farming-fishing|    Own-child|             White|  Male|           0|           0|            35| United-States|     0|\n",
      "| 32|         Private| 186824|     HS-grad|            9|       Never-married|Machine-op-inspct|    Unmarried|             White|  Male|           0|           0|            40| United-States|     0|\n",
      "| 38|         Private|  28887|        11th|            7|  Married-civ-spouse|            Sales|      Husband|             White|  Male|           0|           0|            50| United-States|     0|\n",
      "| 43|Self-emp-not-inc| 292175|     Masters|           14|            Divorced|  Exec-managerial|    Unmarried|             White|Female|           0|           0|            45| United-States|     1|\n",
      "+---+----------------+-------+------------+-------------+--------------------+-----------------+-------------+------------------+------+------------+------------+--------------+--------------+------+\n",
      "only showing top 20 rows\n",
      "\n"
     ]
    }
   ],
   "source": [
    "# Convert pandas DataFrame to Spark DataFrame\n",
    "df_spark = spark.createDataFrame(df)\n",
    "\n",
    "# Show the Spark DataFrame\n",
    "df_spark.show()"
   ]
  },
  {
   "cell_type": "markdown",
   "id": "1bf62843-4623-4c5e-bb0c-9e141beab2ac",
   "metadata": {},
   "source": [
    "### 2. Make changes to the schema."
   ]
  },
  {
   "cell_type": "markdown",
   "id": "275bae2b-9edd-40c5-bbd3-2e9605dc4177",
   "metadata": {},
   "source": [
    "Since we are going to make changes to the schema, let's look into that and decide on which columns to keep and change the datatypes if require."
   ]
  },
  {
   "cell_type": "code",
   "execution_count": 56,
   "id": "85259df0-0adc-428f-a00f-be7a2a901e16",
   "metadata": {},
   "outputs": [
    {
     "name": "stdout",
     "output_type": "stream",
     "text": [
      "root\n",
      " |-- age: long (nullable = true)\n",
      " |-- workclass: string (nullable = true)\n",
      " |-- fnl_wgt: long (nullable = true)\n",
      " |-- education: string (nullable = true)\n",
      " |-- education_num: long (nullable = true)\n",
      " |-- marital_status: string (nullable = true)\n",
      " |-- occupation: string (nullable = true)\n",
      " |-- relationship: string (nullable = true)\n",
      " |-- race: string (nullable = true)\n",
      " |-- sex: string (nullable = true)\n",
      " |-- capital_gain: long (nullable = true)\n",
      " |-- capital_loss: long (nullable = true)\n",
      " |-- hours_per_week: long (nullable = true)\n",
      " |-- native_country: string (nullable = true)\n",
      " |-- income: long (nullable = true)\n",
      "\n"
     ]
    }
   ],
   "source": [
    "df_spark.printSchema()"
   ]
  },
  {
   "cell_type": "markdown",
   "id": "7dd74edb-8850-4be9-8b6b-9edc3f42018c",
   "metadata": {},
   "source": [
    "Let's look into the each feature, it's datatype and decide which attributes are relevant in this classification and then adjust our schema accordingly.\n",
    "\n",
    "- Age: The data type is already appropriate (IntegerType()), so we keep it as is.\n",
    "\n",
    "- Workclass: This is a categorical variable represented as a string. We consider dropping it because as we have occupation we can determine which workclass from the occupation that makes workclass redundant.\n",
    "  \n",
    "- education_num: This attribute is a numeric datatype, which stores the number of years of education a specific individual received which is redundant as we have the highest education the individual received in `education` column so we are dropping this attribute too.\n",
    "\n",
    "- fnlwgt:  This seems to be a feature related to census weight. Since it's not immediately clear the way this feature is useful for analysis or modeling, we consider dropping it. \n",
    "\n",
    "-  Education: As it was mentioned earlier this variable describes the highest education an individual received. This is a categorical variable represented as a string. We keep it as is, as it represents individuals' educational qualifications, which could be important for predicting income.\n",
    "\n",
    "- Marital Status: This categorical variable represents individuals' marital status, which might have an impact on their income and other socioeconomic factors.\n",
    "\n",
    "- Occupation: Another categorical variable representing individuals' occupations. Occupation can strongly influence income levels, so we keep it as is.\n",
    "\n",
    "- Relationship: This categorical variable represents individuals' relationship status, which could potentially affect their financial situation and income.\n",
    "\n",
    "- Race: Another categorical variable representing individuals' race. Although sensitive, race can have implications for income disparities and social inequalities.\n",
    "\n",
    "- Sex: This binary categorical variable represents individuals' gender. Gender-based income disparities are well-documented, making this potentially important for predicting income levels.\n",
    "\n",
    "- Capital Gain: This numerical variable represents financial gains. It provides direct information about individuals' financial investments or profits, which could be relevant for predicting income.\n",
    "\n",
    "- Capital Loss: Similar to capital gain, this numerical variable represents financial losses. It complements capital gain by providing information about individuals' financial losses, which could also influence income.\n",
    "\n",
    "- Hours per Week: This numerical variable represents the number of hours worked per week. It directly impacts individuals' income levels, making it an important predictor.\n",
    "\n",
    "- Native Country: This categorical variable represents individuals' country of origin. It could provide insights into income disparities across different countries and cultures.\n",
    "\n",
    "- Income: This is the target variable, representing individuals' income levels. We convert it as an int datatype since we have already changed the mapping of <=50k to 0, and >50k to 1."
   ]
  },
  {
   "cell_type": "code",
   "execution_count": 57,
   "id": "3ad308ac-a7d9-4681-907b-1bc9d20fe275",
   "metadata": {},
   "outputs": [],
   "source": [
    "# Define the new schema\n",
    "schema = StructType([\n",
    "    StructField(\"age\", IntegerType(), True), \n",
    "    # Drop workclass\n",
    "    # Drop fnlwgt\n",
    "    StructField(\"education\", StringType(), True),\n",
    "    # Drop education_num\n",
    "    StructField(\"marital_status\", StringType(), True), \n",
    "    StructField(\"occupation\", StringType(), True), \n",
    "    StructField(\"relationship\", StringType(), True), \n",
    "    StructField(\"race\", StringType(), True), \n",
    "    StructField(\"sex\", StringType(), True), \n",
    "    StructField(\"capital_gain\", IntegerType(), True), \n",
    "    StructField(\"capital_loss\", IntegerType(), True), \n",
    "    StructField(\"hours_per_week\", IntegerType(), True), \n",
    "    StructField(\"native_country\", StringType(), True), \n",
    "    StructField(\"income\",IntegerType(), True) \n",
    "])"
   ]
  },
  {
   "cell_type": "code",
   "execution_count": 58,
   "id": "f764cf0e-08e4-49a2-90b7-6a57be743d33",
   "metadata": {},
   "outputs": [],
   "source": [
    "# Drop irrelevant columns\n",
    "columns_to_drop = ['workclass', 'education_num', 'fnl_wgt']\n",
    "df_spark = df_spark.drop(*columns_to_drop)"
   ]
  },
  {
   "cell_type": "code",
   "execution_count": 59,
   "id": "10e216f9-22a7-4b76-b837-21a95eb125cc",
   "metadata": {},
   "outputs": [
    {
     "name": "stdout",
     "output_type": "stream",
     "text": [
      "+---+------------+--------------------+-----------------+-------------+------------------+------+------------+------------+--------------+--------------+------+\n",
      "|age|   education|      marital_status|       occupation| relationship|              race|   sex|capital_gain|capital_loss|hours_per_week|native_country|income|\n",
      "+---+------------+--------------------+-----------------+-------------+------------------+------+------------+------------+--------------+--------------+------+\n",
      "| 39|   Bachelors|       Never-married|     Adm-clerical|Not-in-family|             White|  Male|        2174|           0|            40| United-States|     0|\n",
      "| 50|   Bachelors|  Married-civ-spouse|  Exec-managerial|      Husband|             White|  Male|           0|           0|            13| United-States|     0|\n",
      "| 38|     HS-grad|            Divorced|Handlers-cleaners|Not-in-family|             White|  Male|           0|           0|            40| United-States|     0|\n",
      "| 53|        11th|  Married-civ-spouse|Handlers-cleaners|      Husband|             Black|  Male|           0|           0|            40| United-States|     0|\n",
      "| 28|   Bachelors|  Married-civ-spouse|   Prof-specialty|         Wife|             Black|Female|           0|           0|            40|          Cuba|     0|\n",
      "| 37|     Masters|  Married-civ-spouse|  Exec-managerial|         Wife|             White|Female|           0|           0|            40| United-States|     0|\n",
      "| 49|         9th|Married-spouse-ab...|    Other-service|Not-in-family|             Black|Female|           0|           0|            16|       Jamaica|     0|\n",
      "| 52|     HS-grad|  Married-civ-spouse|  Exec-managerial|      Husband|             White|  Male|           0|           0|            45| United-States|     1|\n",
      "| 31|     Masters|       Never-married|   Prof-specialty|Not-in-family|             White|Female|       14084|           0|            50| United-States|     1|\n",
      "| 42|   Bachelors|  Married-civ-spouse|  Exec-managerial|      Husband|             White|  Male|        5178|           0|            40| United-States|     1|\n",
      "| 37|Some-college|  Married-civ-spouse|  Exec-managerial|      Husband|             Black|  Male|           0|           0|            80| United-States|     1|\n",
      "| 30|   Bachelors|  Married-civ-spouse|   Prof-specialty|      Husband|Asian-Pac-Islander|  Male|           0|           0|            40|         India|     1|\n",
      "| 23|   Bachelors|       Never-married|     Adm-clerical|    Own-child|             White|Female|           0|           0|            30| United-States|     0|\n",
      "| 32|  Assoc-acdm|       Never-married|            Sales|Not-in-family|             Black|  Male|           0|           0|            50| United-States|     0|\n",
      "| 40|   Assoc-voc|  Married-civ-spouse|     Craft-repair|      Husband|Asian-Pac-Islander|  Male|           0|           0|            40|             ?|     1|\n",
      "| 34|     7th-8th|  Married-civ-spouse| Transport-moving|      Husband|Amer-Indian-Eskimo|  Male|           0|           0|            45|        Mexico|     0|\n",
      "| 25|     HS-grad|       Never-married|  Farming-fishing|    Own-child|             White|  Male|           0|           0|            35| United-States|     0|\n",
      "| 32|     HS-grad|       Never-married|Machine-op-inspct|    Unmarried|             White|  Male|           0|           0|            40| United-States|     0|\n",
      "| 38|        11th|  Married-civ-spouse|            Sales|      Husband|             White|  Male|           0|           0|            50| United-States|     0|\n",
      "| 43|     Masters|            Divorced|  Exec-managerial|    Unmarried|             White|Female|           0|           0|            45| United-States|     1|\n",
      "+---+------------+--------------------+-----------------+-------------+------------------+------+------------+------------+--------------+--------------+------+\n",
      "only showing top 20 rows\n",
      "\n"
     ]
    }
   ],
   "source": [
    "df_spark.show()"
   ]
  },
  {
   "cell_type": "code",
   "execution_count": 60,
   "id": "2c662244-8239-4e93-a35b-8e0b7a31f50b",
   "metadata": {},
   "outputs": [],
   "source": [
    "# Apply the new schema to the DataFrame\n",
    "df_spark = spark.createDataFrame(df_spark.toPandas(), schema=schema)"
   ]
  },
  {
   "cell_type": "code",
   "execution_count": 61,
   "id": "9a900bbc-ef1e-49d2-9fb1-a8a8e5e76c2a",
   "metadata": {},
   "outputs": [],
   "source": [
    "# Replace question marks with 'Unknown' in all columns\n",
    "df_spark = df_spark.replace('?', 'Unknown')"
   ]
  },
  {
   "cell_type": "code",
   "execution_count": 62,
   "id": "a7350032-db19-4089-b3dc-c5cbf823b282",
   "metadata": {},
   "outputs": [
    {
     "name": "stdout",
     "output_type": "stream",
     "text": [
      "Unique values in column 'age': [31, 85, 65, 53, 78, 34, 81, 28, 76, 27, 26, 44, 22, 47, 52, 40, 20, 57, 54, 48, 19, 64, 41, 43, 37, 61, 88, 17, 72, 35, 59, 55, 39, 23, 49, 84, 51, 69, 63, 77, 50, 45, 38, 82, 80, 25, 73, 24, 70, 62, 29, 21, 32, 60, 90, 75, 56, 58, 33, 83, 71, 68, 42, 79, 30, 66, 46, 67, 18, 74, 36, 86, 87, 89]\n",
      "Unique values in column 'education': ['Masters', '10th', '5th-6th', 'Assoc-acdm', 'Assoc-voc', '7th-8th', '9th', 'HS-grad', 'Bachelors', '11th', '1st-4th', 'Preschool', '12th', 'Doctorate', 'Some-college', 'Prof-school']\n",
      "Unique values in column 'marital_status': ['Separated', 'Never-married', 'Married-spouse-absent', 'Divorced', 'Widowed', 'Married-AF-spouse', 'Married-civ-spouse']\n",
      "Unique values in column 'occupation': ['Sales', 'Exec-managerial', 'Prof-specialty', 'Handlers-cleaners', 'Farming-fishing', 'Craft-repair', 'Unknown', 'Transport-moving', 'Priv-house-serv', 'Protective-serv', 'Other-service', 'Tech-support', 'Machine-op-inspct', 'Armed-Forces', 'Adm-clerical']\n",
      "Unique values in column 'relationship': ['Own-child', 'Not-in-family', 'Unmarried', 'Wife', 'Other-relative', 'Husband']\n",
      "Unique values in column 'race': ['Other', 'Amer-Indian-Eskimo', 'White', 'Asian-Pac-Islander', 'Black']\n",
      "Unique values in column 'sex': ['Female', 'Male']\n",
      "Unique values in column 'capital_gain': [4101, 2580, 5178, 10605, 22040, 9562, 4865, 2907, 2463, 15024, 914, 3411, 2062, 3456, 2228, 3325, 2961, 2407, 1848, 4386, 1506, 2414, 3818, 1055, 7896, 2829, 2635, 2329, 4931, 99999, 2597, 3908, 34095, 25236, 1455, 2885, 14084, 4508, 8614, 2105, 10520, 2964, 2176, 4416, 2346, 1151, 3674, 6514, 2036, 1831, 2354, 3471, 6849, 7688, 594, 3137, 2202, 2174, 4650, 3273, 114, 5556, 41310, 1111, 20051, 4787, 6418, 27828, 9386, 2290, 6767, 5013, 15020, 2050, 7430, 1409, 3781, 1471, 13550, 6497, 3432, 2977, 2936, 3418, 7298, 1086, 2538, 4934, 3103, 11678, 25124, 3942, 4064, 3887, 3464, 15831, 5721, 0, 14344, 1424, 5455, 991, 10566, 401, 6097, 18481, 2653, 6360, 2993, 7978, 4687, 1639, 2009, 1173, 6723, 1797, 7443, 2387, 7262, 1264, 5060, 1731]\n",
      "Unique values in column 'capital_loss': [1721, 2231, 1977, 2392, 2559, 2238, 974, 1974, 1816, 1564, 1848, 625, 2042, 2051, 2339, 1590, 1504, 1902, 1485, 1651, 2603, 1380, 1628, 4356, 2824, 419, 2246, 2149, 2205, 2206, 2444, 880, 1539, 2174, 1735, 810, 1340, 1669, 2547, 1594, 1887, 1876, 2258, 2129, 1825, 1740, 653, 323, 1648, 1602, 3004, 2352, 1844, 1668, 1579, 1980, 1726, 1617, 213, 1408, 1573, 2001, 1672, 2179, 2415, 1092, 2282, 0, 2002, 1719, 1762, 1741, 2377, 1258, 2057, 1138, 155, 2467, 1944, 2489, 3683, 2267, 2080, 3900, 1755, 2201, 3770, 2457, 3175, 2754, 2163, 2472, 1429, 1411, 1510, 1421, 1911, 1870]\n",
      "Unique values in column 'hours_per_week': [31, 85, 65, 53, 78, 34, 28, 26, 27, 44, 12, 22, 47, 1, 52, 13, 16, 6, 3, 40, 20, 94, 57, 54, 96, 48, 5, 19, 64, 41, 15, 43, 37, 88, 9, 17, 72, 35, 55, 4, 59, 8, 39, 23, 49, 7, 84, 87, 51, 97, 63, 10, 77, 50, 45, 38, 82, 80, 25, 73, 24, 70, 62, 29, 21, 98, 60, 32, 90, 75, 56, 58, 33, 11, 68, 14, 42, 2, 30, 99, 66, 46, 67, 18, 36, 89, 81, 76, 91, 86, 92, 61, 95, 74, 69, 79]\n",
      "Unique values in column 'native_country': ['Philippines', 'Germany', 'Cambodia', 'France', 'Greece', 'Taiwan', 'Ecuador', 'Nicaragua', 'Hong', 'Peru', 'India', 'China', 'Unknown', 'Italy', 'Cuba', 'South', 'Iran', 'Ireland', 'Thailand', 'Laos', 'El-Salvador', 'Mexico', 'Guatemala', 'Honduras', 'Yugoslavia', 'Puerto-Rico', 'Jamaica', 'Canada', 'United-States', 'Dominican-Republic', 'Outlying-US(Guam-USVI-etc)', 'Japan', 'England', 'Haiti', 'Poland', 'Portugal', 'Columbia', 'Scotland', 'Hungary', 'Vietnam', 'Trinadad&Tobago', 'Holand-Netherlands']\n",
      "Unique values in column 'income': [1, 0]\n"
     ]
    }
   ],
   "source": [
    "# Iterate over each column and print unique values\n",
    "for col_name in df_spark.columns:\n",
    "    unique_values = df_spark.select(col(col_name)).distinct().collect()\n",
    "    unique_values_list = [row[0] for row in unique_values]\n",
    "    print(f\"Unique values in column '{col_name}': {unique_values_list}\")"
   ]
  },
  {
   "cell_type": "code",
   "execution_count": 63,
   "id": "28c4863e-50aa-4f5d-bb17-95531544668f",
   "metadata": {},
   "outputs": [
    {
     "name": "stdout",
     "output_type": "stream",
     "text": [
      "root\n",
      " |-- age: integer (nullable = true)\n",
      " |-- education: string (nullable = true)\n",
      " |-- marital_status: string (nullable = true)\n",
      " |-- occupation: string (nullable = true)\n",
      " |-- relationship: string (nullable = true)\n",
      " |-- race: string (nullable = true)\n",
      " |-- sex: string (nullable = true)\n",
      " |-- capital_gain: integer (nullable = true)\n",
      " |-- capital_loss: integer (nullable = true)\n",
      " |-- hours_per_week: integer (nullable = true)\n",
      " |-- native_country: string (nullable = true)\n",
      " |-- income: integer (nullable = true)\n",
      "\n"
     ]
    }
   ],
   "source": [
    "# Show the DataFrame\n",
    "df_spark.printSchema()"
   ]
  },
  {
   "cell_type": "markdown",
   "id": "bc388a4e-cde3-4622-b76b-3c329f1de2cd",
   "metadata": {},
   "source": [
    "### 3.Store data in a persistent table."
   ]
  },
  {
   "cell_type": "markdown",
   "id": "fe4d71f0-24c5-4e5b-ba74-b8ca6137d554",
   "metadata": {},
   "source": [
    "In this step we are going to store the `df_spark` our spark dataframe in a permanent table here we use the mode(\"overwrite\") option ensures that if the table already exists, it will be overwritten(optional)."
   ]
  },
  {
   "cell_type": "code",
   "execution_count": 64,
   "id": "59af6576-b7fa-4bec-b9b4-652223689aef",
   "metadata": {},
   "outputs": [
    {
     "name": "stderr",
     "output_type": "stream",
     "text": [
      "                                                                                \r"
     ]
    }
   ],
   "source": [
    "# Define the name of the table\n",
    "table_name = \"income_classification\"\n",
    "\n",
    "# Write the DataFrame to a persistent table\n",
    "df_spark.write.mode(\"overwrite\").saveAsTable(table_name)"
   ]
  },
  {
   "cell_type": "code",
   "execution_count": 65,
   "id": "f7277de6-87a8-44ab-b0e9-80e0a52526cd",
   "metadata": {},
   "outputs": [
    {
     "name": "stdout",
     "output_type": "stream",
     "text": [
      "+---------+--------------------+-----------+\n",
      "|namespace|           tableName|isTemporary|\n",
      "+---------+--------------------+-----------+\n",
      "|  default|income_classifica...|      false|\n",
      "+---------+--------------------+-----------+\n",
      "\n"
     ]
    }
   ],
   "source": [
    "# Confirm that the table has been created\n",
    "spark.sql(f\"SHOW TABLES LIKE '{table_name}'\").show()"
   ]
  },
  {
   "cell_type": "markdown",
   "id": "1b39249e-4902-4886-81cc-68866a072f40",
   "metadata": {},
   "source": [
    "### 4. Create a temporary view of the data."
   ]
  },
  {
   "cell_type": "markdown",
   "id": "11017dbf-cf98-43a5-a949-5e4b81a7b512",
   "metadata": {},
   "source": [
    "As we know that temporary views are only available for the duration of the SparkSession"
   ]
  },
  {
   "cell_type": "code",
   "execution_count": 66,
   "id": "95bd1616-35c4-45b6-a1f3-3f2ec0df0fcf",
   "metadata": {},
   "outputs": [],
   "source": [
    "income_classification = spark.table(\"income_classification\")\n",
    "\n",
    "# Create a temporary view\n",
    "income_classification.createOrReplaceTempView(\"temp_view\")"
   ]
  },
  {
   "cell_type": "markdown",
   "id": "9cee04bb-48ec-4bea-b38a-b0640fe8ef72",
   "metadata": {},
   "source": [
    "### 5. Data Exploration using Spark SQL."
   ]
  },
  {
   "cell_type": "markdown",
   "id": "4e1d2738-ac85-4882-aed9-789f31850155",
   "metadata": {},
   "source": [
    "Display summary statistics for numerical columns:"
   ]
  },
  {
   "cell_type": "code",
   "execution_count": 67,
   "id": "ca41de39-b407-4df5-a5da-73f4c266ec5c",
   "metadata": {},
   "outputs": [
    {
     "name": "stdout",
     "output_type": "stream",
     "text": [
      "+--------------+---------+-------+\n",
      "|      col_name|data_type|comment|\n",
      "+--------------+---------+-------+\n",
      "|           age|      int|   NULL|\n",
      "|     education|   string|   NULL|\n",
      "|marital_status|   string|   NULL|\n",
      "|    occupation|   string|   NULL|\n",
      "|  relationship|   string|   NULL|\n",
      "|          race|   string|   NULL|\n",
      "|           sex|   string|   NULL|\n",
      "|  capital_gain|      int|   NULL|\n",
      "|  capital_loss|      int|   NULL|\n",
      "|hours_per_week|      int|   NULL|\n",
      "|native_country|   string|   NULL|\n",
      "|        income|      int|   NULL|\n",
      "+--------------+---------+-------+\n",
      "\n"
     ]
    }
   ],
   "source": [
    "spark.sql(\"DESCRIBE temp_view\").show()"
   ]
  },
  {
   "cell_type": "markdown",
   "id": "1e6fb2cb-ee9e-45aa-833e-397d56dc8f37",
   "metadata": {},
   "source": [
    "To analyze the income distribution across different classes, we can use a SQL query to calculate the count of records for each income class. The 'income' column represents the income class (e.g., 0 for <=50K, 1 for >50K), and the 'count' column represents the number of records for each income class"
   ]
  },
  {
   "cell_type": "code",
   "execution_count": 68,
   "id": "57636433-9a8c-49e5-8081-86855255efa9",
   "metadata": {},
   "outputs": [
    {
     "name": "stdout",
     "output_type": "stream",
     "text": [
      "+------+-----+\n",
      "|income|count|\n",
      "+------+-----+\n",
      "|     0|36080|\n",
      "|     1|11541|\n",
      "+------+-----+\n",
      "\n"
     ]
    }
   ],
   "source": [
    "# Calculate income distribution across different classes\n",
    "income_distribution_query = \"\"\"\n",
    "    SELECT income, COUNT(*) AS count\n",
    "    FROM temp_view\n",
    "    GROUP BY income\n",
    "    ORDER BY income\n",
    "\"\"\"\n",
    "\n",
    "# Execute the query and display the result\n",
    "income_distribution_result = spark.sql(income_distribution_query)\n",
    "income_distribution_result.show()"
   ]
  },
  {
   "cell_type": "markdown",
   "id": "742b93a2-5cde-415f-a6bb-16264f8a6c6c",
   "metadata": {},
   "source": [
    "Here, we can see that almost 75% of the observations all have income below 50k per annum in the 1990's this distribution of income can give us an idea of economic conditions during 1990's, let's look deeper by examining the distribution of income across different occupations."
   ]
  },
  {
   "cell_type": "markdown",
   "id": "d13a88cb-c003-482b-a0b9-e9e27d7c57d8",
   "metadata": {},
   "source": [
    "Income distribution across different occupations "
   ]
  },
  {
   "cell_type": "code",
   "execution_count": 69,
   "id": "bb9310ce-e28c-4c39-8ac7-d1612201ff3c",
   "metadata": {},
   "outputs": [
    {
     "name": "stdout",
     "output_type": "stream",
     "text": [
      "+-----------------+--------------+--------------+\n",
      "|       occupation|count_income_1|count_income_0|\n",
      "+-----------------+--------------+--------------+\n",
      "|     Adm-clerical|           765|          4824|\n",
      "|     Armed-Forces|             4|            10|\n",
      "|     Craft-repair|          1376|          4713|\n",
      "|  Exec-managerial|          2898|          3160|\n",
      "|  Farming-fishing|           172|          1313|\n",
      "|Handlers-cleaners|           138|          1928|\n",
      "|Machine-op-inspct|           370|          2636|\n",
      "|    Other-service|           201|          4690|\n",
      "|  Priv-house-serv|             3|           235|\n",
      "|   Prof-specialty|          2752|          3358|\n",
      "|  Protective-serv|           308|           673|\n",
      "|            Sales|          1468|          4006|\n",
      "|     Tech-support|           416|          1020|\n",
      "| Transport-moving|           479|          1862|\n",
      "|          Unknown|           191|          1652|\n",
      "+-----------------+--------------+--------------+\n",
      "\n"
     ]
    }
   ],
   "source": [
    "# Analyzing income distribution across different categories of occupation\n",
    "occupation_income_distribution = spark.sql(\"\"\"\n",
    "    SELECT \n",
    "        occupation, \n",
    "        SUM(CASE WHEN income = 1 THEN 1 ELSE 0 END) AS count_income_1,\n",
    "        SUM(CASE WHEN income = 0 THEN 1 ELSE 0 END) AS count_income_0\n",
    "    FROM \n",
    "        temp_view\n",
    "    GROUP BY \n",
    "        occupation\n",
    "    ORDER BY \n",
    "        occupation\n",
    "\"\"\")\n",
    "\n",
    "occupation_income_distribution.show()"
   ]
  },
  {
   "cell_type": "markdown",
   "id": "ab91ced2-6dba-4bba-bfeb-961c9b2220ad",
   "metadata": {},
   "source": [
    "Analyzing income distribution by country"
   ]
  },
  {
   "cell_type": "code",
   "execution_count": 70,
   "id": "56e3831c-e0cc-44a3-add8-24ebc7af4f41",
   "metadata": {},
   "outputs": [
    {
     "name": "stdout",
     "output_type": "stream",
     "text": [
      "+------------------+------+-----+\n",
      "|    native_country|income|count|\n",
      "+------------------+------+-----+\n",
      "|          Cambodia|     0|   18|\n",
      "|          Cambodia|     1|    9|\n",
      "|            Canada|     0|  114|\n",
      "|            Canada|     1|   63|\n",
      "|             China|     0|   84|\n",
      "|             China|     1|   36|\n",
      "|          Columbia|     0|   81|\n",
      "|          Columbia|     1|    4|\n",
      "|              Cuba|     0|  102|\n",
      "|              Cuba|     1|   34|\n",
      "|Dominican-Republic|     0|   95|\n",
      "|Dominican-Republic|     1|    5|\n",
      "|           Ecuador|     0|   38|\n",
      "|           Ecuador|     1|    6|\n",
      "|       El-Salvador|     0|  142|\n",
      "|       El-Salvador|     1|   11|\n",
      "|           England|     0|   76|\n",
      "|           England|     1|   47|\n",
      "|            France|     0|   22|\n",
      "|            France|     1|   16|\n",
      "+------------------+------+-----+\n",
      "only showing top 20 rows\n",
      "\n"
     ]
    }
   ],
   "source": [
    "income_distribution_by_country = df_spark.groupBy(\"native_country\", \"income\").count().orderBy(\"native_country\", \"income\")\n",
    "income_distribution_by_country.show()"
   ]
  },
  {
   "cell_type": "markdown",
   "id": "598c3922-0984-4321-850f-678cb3511c0e",
   "metadata": {},
   "source": [
    "Let's look at income distribution within United States."
   ]
  },
  {
   "cell_type": "code",
   "execution_count": 71,
   "id": "b1d64ede-6f35-4de7-841b-bb15ae501dec",
   "metadata": {},
   "outputs": [
    {
     "name": "stdout",
     "output_type": "stream",
     "text": [
      "+------+-----+\n",
      "|income|count|\n",
      "+------+-----+\n",
      "|     1|10624|\n",
      "|     0|32334|\n",
      "+------+-----+\n",
      "\n"
     ]
    }
   ],
   "source": [
    "# Specify the country you want to analyze\n",
    "country_us = \"United-States\"  # Replace with the desired country name\n",
    "\n",
    "# Filter the DataFrame for the specified country\n",
    "us_income = df_spark.filter(df_spark[\"native_country\"] == country_us)\n",
    "\n",
    "# Analyze income distribution for the specified country\n",
    "income_distribution_for_us = us_income.groupBy(\"income\").count()\n",
    "income_distribution_for_us.show()"
   ]
  },
  {
   "cell_type": "markdown",
   "id": "e48458b3-8e2d-40af-aecf-fe41648093a2",
   "metadata": {},
   "source": [
    "Here we can almost 70% of the observations are from the United-States and also it follows the same pattern when comparing the distributions across all the observations. Now let's look at income distribution across different countries for different occupations."
   ]
  },
  {
   "cell_type": "code",
   "execution_count": 72,
   "id": "57760666-a2a1-40c5-8dd8-82708d645a23",
   "metadata": {},
   "outputs": [
    {
     "name": "stdout",
     "output_type": "stream",
     "text": [
      "+--------------+-----------------+------+-----+\n",
      "|native_country|       occupation|income|count|\n",
      "+--------------+-----------------+------+-----+\n",
      "|      Cambodia|     Craft-repair|     0|    6|\n",
      "|      Cambodia|     Craft-repair|     1|    3|\n",
      "|      Cambodia|  Exec-managerial|     0|    1|\n",
      "|      Cambodia|  Farming-fishing|     1|    1|\n",
      "|      Cambodia|Machine-op-inspct|     0|    4|\n",
      "|      Cambodia|Machine-op-inspct|     1|    1|\n",
      "|      Cambodia|    Other-service|     0|    1|\n",
      "|      Cambodia|   Prof-specialty|     0|    2|\n",
      "|      Cambodia|   Prof-specialty|     1|    2|\n",
      "|      Cambodia|            Sales|     0|    2|\n",
      "|      Cambodia|            Sales|     1|    2|\n",
      "|      Cambodia| Transport-moving|     0|    1|\n",
      "|      Cambodia|          Unknown|     0|    1|\n",
      "|        Canada|     Adm-clerical|     0|   10|\n",
      "|        Canada|     Adm-clerical|     1|    4|\n",
      "|        Canada|     Craft-repair|     0|   17|\n",
      "|        Canada|     Craft-repair|     1|    6|\n",
      "|        Canada|  Exec-managerial|     0|    7|\n",
      "|        Canada|  Exec-managerial|     1|   13|\n",
      "|        Canada|  Farming-fishing|     0|    3|\n",
      "+--------------+-----------------+------+-----+\n",
      "only showing top 20 rows\n",
      "\n"
     ]
    }
   ],
   "source": [
    "# Analyzing income distribution in each country by occupation\n",
    "income_distribution_by_country_and_occupation = df_spark.groupBy(\"native_country\", \"occupation\", \"income\").count().orderBy(\"native_country\", \"occupation\", \"income\")\n",
    "income_distribution_by_country_and_occupation.show()"
   ]
  },
  {
   "cell_type": "markdown",
   "id": "f7d3dd75-a4ec-46f3-8b66-da8f5c2f0821",
   "metadata": {},
   "source": [
    "### Discussion."
   ]
  },
  {
   "cell_type": "markdown",
   "id": "97ac3bb7-14ca-4535-a966-7f5ec6b3d2b3",
   "metadata": {},
   "source": [
    "Now that we have explored our dataset using spark sql we are now proceeding for the income classification and evaluating the model performance the model we've chosen is Random Forest Classifier a popular ensemble method. For that we first have to deal with our data preparation where we encode categorical variables using string indexer and scale numeric variables as Random Forest is sensitive to scaling differences and we have to assemble them into a vector because in spark the ML Model expects a single numeric vector instead of multiple features as inputs so we do that and then proceed for model fitting and evaluation."
   ]
  },
  {
   "cell_type": "markdown",
   "id": "a5899f1b-4228-426b-80b0-31a0804658e9",
   "metadata": {},
   "source": [
    "### 4. Data Preparation."
   ]
  },
  {
   "cell_type": "markdown",
   "id": "ee28dd0c-af41-487d-8da1-68aa2fae1421",
   "metadata": {},
   "source": [
    "Age:\n",
    "- Age might not directly correlate with the target variable (income) in a linear or straightforward manner. While age could be a factor in determining income, it might not always be the case. For example, younger individuals might earn more due to higher education or specific job roles, while older individuals might earn less if they are retired or have lower-paying jobs.\n",
    "- Including age could introduce bias into the model if age discrimination is a concern, as it might inadvertently affect predictions based on age groups.\n",
    "\n",
    "Hours per Week:\n",
    "\n",
    "- While hours worked per week can be a relevant factor in determining income, it might not always be significant or linearly related to income. Some individuals might have high hourly rates but work fewer hours, while others might work long hours but earn lower wages.\n",
    "- Including hours per week without additional context (such as occupation or industry) might oversimplify the relationship between work hours and income, leading to inaccurate predictions.\n",
    "\n",
    "Capital Gain:\n",
    "\n",
    "- Capital gains are typically associated with investments and asset appreciation. While capital gains can contribute to income, they might not be consistently realized by all individuals or may not be a primary source of income for everyone.\n",
    "- Including capital gains could introduce noise or complexity into the model, especially if the dataset contains a wide range of capital gain values with varying frequencies.\n",
    "\n",
    "Capital Loss:\n",
    "\n",
    "- Similar to capital gains, capital losses are related to investment activities. However, they represent a negative financial outcome and might not directly correlate with income levels.\n",
    "- Including capital losses could introduce unnecessary complexity into the model, especially if the majority of individuals in the dataset do not incur significant capital losses.\n",
    "\n",
    "By dropping these columns, we aim to simplify the model, reduce potential noise, and focus on features that are more directly related to income prediction, thereby improving the model's interpretability and predictive performance.\n",
    "\n",
    "\n",
    "\n",
    "\n",
    "\n"
   ]
  },
  {
   "cell_type": "code",
   "execution_count": 73,
   "id": "2795a45f-e523-4229-ae91-51d9420debc9",
   "metadata": {},
   "outputs": [
    {
     "name": "stdout",
     "output_type": "stream",
     "text": [
      "+------------+--------------------+-----------------+-------------+------------------+------+--------------+------+\n",
      "|   education|      marital_status|       occupation| relationship|              race|   sex|native_country|income|\n",
      "+------------+--------------------+-----------------+-------------+------------------+------+--------------+------+\n",
      "|   Bachelors|       Never-married|     Adm-clerical|Not-in-family|             White|  Male| United-States|     0|\n",
      "|   Bachelors|  Married-civ-spouse|  Exec-managerial|      Husband|             White|  Male| United-States|     0|\n",
      "|     HS-grad|            Divorced|Handlers-cleaners|Not-in-family|             White|  Male| United-States|     0|\n",
      "|        11th|  Married-civ-spouse|Handlers-cleaners|      Husband|             Black|  Male| United-States|     0|\n",
      "|   Bachelors|  Married-civ-spouse|   Prof-specialty|         Wife|             Black|Female|          Cuba|     0|\n",
      "|     Masters|  Married-civ-spouse|  Exec-managerial|         Wife|             White|Female| United-States|     0|\n",
      "|         9th|Married-spouse-ab...|    Other-service|Not-in-family|             Black|Female|       Jamaica|     0|\n",
      "|     HS-grad|  Married-civ-spouse|  Exec-managerial|      Husband|             White|  Male| United-States|     1|\n",
      "|     Masters|       Never-married|   Prof-specialty|Not-in-family|             White|Female| United-States|     1|\n",
      "|   Bachelors|  Married-civ-spouse|  Exec-managerial|      Husband|             White|  Male| United-States|     1|\n",
      "|Some-college|  Married-civ-spouse|  Exec-managerial|      Husband|             Black|  Male| United-States|     1|\n",
      "|   Bachelors|  Married-civ-spouse|   Prof-specialty|      Husband|Asian-Pac-Islander|  Male|         India|     1|\n",
      "|   Bachelors|       Never-married|     Adm-clerical|    Own-child|             White|Female| United-States|     0|\n",
      "|  Assoc-acdm|       Never-married|            Sales|Not-in-family|             Black|  Male| United-States|     0|\n",
      "|   Assoc-voc|  Married-civ-spouse|     Craft-repair|      Husband|Asian-Pac-Islander|  Male|       Unknown|     1|\n",
      "|     7th-8th|  Married-civ-spouse| Transport-moving|      Husband|Amer-Indian-Eskimo|  Male|        Mexico|     0|\n",
      "|     HS-grad|       Never-married|  Farming-fishing|    Own-child|             White|  Male| United-States|     0|\n",
      "|     HS-grad|       Never-married|Machine-op-inspct|    Unmarried|             White|  Male| United-States|     0|\n",
      "|        11th|  Married-civ-spouse|            Sales|      Husband|             White|  Male| United-States|     0|\n",
      "|     Masters|            Divorced|  Exec-managerial|    Unmarried|             White|Female| United-States|     1|\n",
      "+------------+--------------------+-----------------+-------------+------------------+------+--------------+------+\n",
      "only showing top 20 rows\n",
      "\n"
     ]
    }
   ],
   "source": [
    "# Drop columns 'age', 'hours_per_week', 'capital_gain', and 'capital_loss'\n",
    "df_spark= df_spark.drop('age', 'hours_per_week', 'capital_gain', 'capital_loss')\n",
    "\n",
    "# Show the updated DataFrame\n",
    "df_spark.show()"
   ]
  },
  {
   "cell_type": "code",
   "execution_count": 74,
   "id": "4c5f79d2-2817-4eff-bd4d-63fa0eddcc2c",
   "metadata": {},
   "outputs": [],
   "source": [
    "# StringIndexer for categorical columns\n",
    "indexer_education = StringIndexer(inputCol='education', outputCol='education_index', handleInvalid='keep')\n",
    "indexer_marital_status = StringIndexer(inputCol='marital_status', outputCol='marital_status_index', handleInvalid='keep')\n",
    "indexer_occupation = StringIndexer(inputCol='occupation', outputCol='occupation_index', handleInvalid='keep')\n",
    "indexer_relationship = StringIndexer(inputCol='relationship', outputCol='relationship_index', handleInvalid='keep')\n",
    "indexer_race = StringIndexer(inputCol='race', outputCol='race_index', handleInvalid='keep')\n",
    "indexer_sex = StringIndexer(inputCol='sex', outputCol='sex_index', handleInvalid='keep')\n",
    "indexer_native_country = StringIndexer(inputCol='native_country', outputCol='native_country_index', handleInvalid='keep')"
   ]
  },
  {
   "cell_type": "code",
   "execution_count": 75,
   "id": "09272099-9561-42a2-90d8-f33411848070",
   "metadata": {},
   "outputs": [],
   "source": [
    "# Define the input columns to be assembled into a feature vector\n",
    "input_cols = ['education_index', 'marital_status_index', 'occupation_index', 'relationship_index', 'race_index', 'sex_index', 'native_country_index']\n",
    "\n",
    "# Initialize the VectorAssembler\n",
    "assembler = VectorAssembler(inputCols=input_cols, outputCol='features')"
   ]
  },
  {
   "cell_type": "code",
   "execution_count": 80,
   "id": "650d125b-fad7-4202-aadc-30fd17b0740b",
   "metadata": {},
   "outputs": [],
   "source": [
    "# Instantiate the RandomForestClassifier\n",
    "rf = RandomForestClassifier(maxBins = 50,featuresCol=\"features\", labelCol=\"income\")"
   ]
  },
  {
   "cell_type": "code",
   "execution_count": 81,
   "id": "e1ea60e2-75ab-4a03-a94d-39c2c41ab6d5",
   "metadata": {},
   "outputs": [],
   "source": [
    "# Define the pipeline\n",
    "pipeline = Pipeline(stages=[\n",
    "    indexer_education,\n",
    "    indexer_marital_status,\n",
    "    indexer_occupation,\n",
    "    indexer_relationship,\n",
    "    indexer_race,\n",
    "    indexer_sex,\n",
    "    indexer_native_country,\n",
    "    assembler,\n",
    "    rf\n",
    "])"
   ]
  },
  {
   "cell_type": "code",
   "execution_count": 82,
   "id": "27eef7c8-f74a-4db3-9782-2d139e687d85",
   "metadata": {},
   "outputs": [],
   "source": [
    "# Split the data into training and test sets (70% training, 30% testing)\n",
    "train_data, test_data = df_spark.randomSplit([0.7, 0.3], seed=42)"
   ]
  },
  {
   "cell_type": "code",
   "execution_count": 83,
   "id": "aee3b5b1-07db-4859-a0f8-68ce4c879aaa",
   "metadata": {},
   "outputs": [
    {
     "name": "stderr",
     "output_type": "stream",
     "text": [
      "                                                                                \r"
     ]
    }
   ],
   "source": [
    "fit_model = pipeline.fit(train_data)"
   ]
  },
  {
   "cell_type": "code",
   "execution_count": 84,
   "id": "0e5db8f7-3247-4073-a1ad-0e98e7e57fcd",
   "metadata": {},
   "outputs": [],
   "source": [
    "results = fit_model.transform(test_data)"
   ]
  },
  {
   "cell_type": "code",
   "execution_count": 85,
   "id": "6140dabd-d5bb-4cc3-9f80-02440ba3fa9e",
   "metadata": {},
   "outputs": [
    {
     "name": "stdout",
     "output_type": "stream",
     "text": [
      "+------+----------+\n",
      "|income|prediction|\n",
      "+------+----------+\n",
      "|     0|       0.0|\n",
      "|     0|       0.0|\n",
      "|     0|       0.0|\n",
      "|     0|       0.0|\n",
      "|     0|       0.0|\n",
      "|     1|       0.0|\n",
      "|     0|       0.0|\n",
      "|     0|       0.0|\n",
      "|     0|       0.0|\n",
      "|     0|       0.0|\n",
      "|     0|       0.0|\n",
      "|     0|       0.0|\n",
      "|     0|       0.0|\n",
      "|     0|       0.0|\n",
      "|     0|       0.0|\n",
      "|     0|       0.0|\n",
      "|     0|       0.0|\n",
      "|     0|       0.0|\n",
      "|     0|       0.0|\n",
      "|     0|       0.0|\n",
      "+------+----------+\n",
      "only showing top 20 rows\n",
      "\n"
     ]
    }
   ],
   "source": [
    "results.select(['income','prediction']).show()"
   ]
  },
  {
   "cell_type": "code",
   "execution_count": 87,
   "id": "3006fb3a-2c9e-4813-925c-c6c90c24e88b",
   "metadata": {},
   "outputs": [
    {
     "name": "stderr",
     "output_type": "stream",
     "text": [
      "                                                                                \r"
     ]
    },
    {
     "name": "stdout",
     "output_type": "stream",
     "text": [
      "Area Under ROC: 0.6880588189586718\n"
     ]
    }
   ],
   "source": [
    "# Initialize BinaryClassificationEvaluator\n",
    "evaluator = BinaryClassificationEvaluator(rawPredictionCol=\"prediction\", labelCol=\"income\", metricName=\"areaUnderROC\")\n",
    "\n",
    "# Evaluate the model\n",
    "auc = evaluator.evaluate(results)\n",
    "\n",
    "print(\"Area Under ROC:\", auc)"
   ]
  },
  {
   "cell_type": "code",
   "execution_count": 91,
   "id": "355ebb99-8377-4870-8c7e-e4b3e70ab92b",
   "metadata": {},
   "outputs": [
    {
     "name": "stdout",
     "output_type": "stream",
     "text": [
      "Accuracy: 0.8146143437077131\n"
     ]
    },
    {
     "name": "stderr",
     "output_type": "stream",
     "text": [
      "                                                                                \r"
     ]
    }
   ],
   "source": [
    "from pyspark.ml.evaluation import MulticlassClassificationEvaluator\n",
    "\n",
    "# Evaluating the model with accuracy\n",
    "evaluator_accuracy = MulticlassClassificationEvaluator(predictionCol=\"prediction\", labelCol=\"income\", metricName=\"accuracy\")\n",
    "accuracy = evaluator_accuracy.evaluate(results)\n",
    "\n",
    "print(\"Accuracy:\", accuracy)"
   ]
  },
  {
   "cell_type": "markdown",
   "id": "63b37cf3-2843-4bdf-a1ce-4d441c0f741c",
   "metadata": {},
   "source": [
    "### Conclusion.\n",
    "\n",
    "Accuracy (81%): This indicates that the model correctly predicted the class of the instances in the test set around 81% of the time. While an accuracy of 81% may seem high, it's important to consider the class distribution in the dataset. If the classes are imbalanced, accuracy might not be the most informative metric.\n",
    "AUC (68%): The Area Under the ROC Curve (AUC) is a measure of the model's ability to distinguish between the positive and negative classes. An AUC of 68% suggests that the model performs better than random guessing, but it might not be very effective in distinguishing between the two classes.\n",
    "The model shows decent performance in terms of accuracy, correctly classifying the majority of instances. However, the AUC score indicates that there is room for improvement in terms of the model's ability to distinguish between the positive and negative classes. Further analysis could involve investigating the data imbalance, tuning model hyperparameters, or exploring different feature engineering techniques to enhance the model's performance."
   ]
  }
 ],
 "metadata": {
  "kernelspec": {
   "display_name": "Python 3 (ipykernel)",
   "language": "python",
   "name": "python3"
  },
  "language_info": {
   "codemirror_mode": {
    "name": "ipython",
    "version": 3
   },
   "file_extension": ".py",
   "mimetype": "text/x-python",
   "name": "python",
   "nbconvert_exporter": "python",
   "pygments_lexer": "ipython3",
   "version": "3.11.7"
  }
 },
 "nbformat": 4,
 "nbformat_minor": 5
}
