{
 "cells": [
  {
   "cell_type": "code",
   "execution_count": 1,
   "id": "d5f531b0-5299-4df6-ac4b-72a378d6007a",
   "metadata": {},
   "outputs": [],
   "source": [
    "from pyspark.sql import SparkSession\n",
    "from pyspark.sql.functions import col, when\n",
    "import numpy as np\n",
    "import pandas as pd\n",
    "import matplotlib.pyplot as plt\n",
    "import seaborn as sns\n",
    "from pyspark.sql.types import StructType, StructField, StringType, IntegerType, DoubleType\n",
    "from pyspark.ml.feature import StringIndexer,StandardScaler, VectorAssembler, OneHotEncoder\n",
    "from pyspark.ml import Pipeline\n",
    "from pyspark.ml.classification import RandomForestClassifier\n",
    "from pyspark.ml.evaluation import BinaryClassificationEvaluator\n",
    "import findspark\n",
    "import warnings\n",
    "warnings.filterwarnings(\"ignore\")\n",
    "\n",
    "np.random.seed(42)"
   ]
  },
  {
   "cell_type": "code",
   "execution_count": 2,
   "id": "7ae15272-ef31-4b3c-83c3-1db6a39667e1",
   "metadata": {},
   "outputs": [
    {
     "name": "stderr",
     "output_type": "stream",
     "text": [
      "Setting default log level to \"WARN\".\n",
      "To adjust logging level use sc.setLogLevel(newLevel). For SparkR, use setLogLevel(newLevel).\n",
      "24/04/28 13:28:23 WARN NativeCodeLoader: Unable to load native-hadoop library for your platform... using builtin-java classes where applicable\n",
      "24/04/28 13:28:24 WARN Utils: Service 'SparkUI' could not bind on port 4040. Attempting port 4041.\n"
     ]
    },
    {
     "name": "stdout",
     "output_type": "stream",
     "text": [
      "Spark Session WebUI Port: 4041\n"
     ]
    }
   ],
   "source": [
    "findspark.init()\n",
    "\n",
    "spark = SparkSession.builder.master(\"local[4]\").appName(\"ISM6562 Spark App01\").enableHiveSupport().getOrCreate();\n",
    "\n",
    "# Let's get the SparkContext object. It's the entry point to the Spark API. It's created when you create a sparksession\n",
    "sc = spark.sparkContext  \n",
    "\n",
    "# note: If you have multiple spark sessions running (like from a previous notebook you've run), \n",
    "# this spark session webUI will be on a different port than the default (4040). One way to \n",
    "# identify this part is with the following line. If there was only one spark session running, \n",
    "# this will be 4040. If it's higher, it means there are still other spark sesssions still running.\n",
    "spark_session_port = spark.sparkContext.uiWebUrl.split(\":\")[-1]\n",
    "print(\"Spark Session WebUI Port: \" + spark_session_port)"
   ]
  },
  {
   "cell_type": "code",
   "execution_count": 3,
   "id": "d520106f-152f-4736-af80-e3625316d7d2",
   "metadata": {},
   "outputs": [
    {
     "data": {
      "text/html": [
       "<div>\n",
       "<style scoped>\n",
       "    .dataframe tbody tr th:only-of-type {\n",
       "        vertical-align: middle;\n",
       "    }\n",
       "\n",
       "    .dataframe tbody tr th {\n",
       "        vertical-align: top;\n",
       "    }\n",
       "\n",
       "    .dataframe thead th {\n",
       "        text-align: right;\n",
       "    }\n",
       "</style>\n",
       "<table border=\"1\" class=\"dataframe\">\n",
       "  <thead>\n",
       "    <tr style=\"text-align: right;\">\n",
       "      <th></th>\n",
       "      <th>age</th>\n",
       "      <th>workclass</th>\n",
       "      <th>fnlwgt</th>\n",
       "      <th>education</th>\n",
       "      <th>education-num</th>\n",
       "      <th>marital-status</th>\n",
       "      <th>occupation</th>\n",
       "      <th>relationship</th>\n",
       "      <th>race</th>\n",
       "      <th>sex</th>\n",
       "      <th>capital-gain</th>\n",
       "      <th>capital-loss</th>\n",
       "      <th>hours-per-week</th>\n",
       "      <th>native-country</th>\n",
       "      <th>income</th>\n",
       "    </tr>\n",
       "  </thead>\n",
       "  <tbody>\n",
       "    <tr>\n",
       "      <th>0</th>\n",
       "      <td>39</td>\n",
       "      <td>State-gov</td>\n",
       "      <td>77516</td>\n",
       "      <td>Bachelors</td>\n",
       "      <td>13</td>\n",
       "      <td>Never-married</td>\n",
       "      <td>Adm-clerical</td>\n",
       "      <td>Not-in-family</td>\n",
       "      <td>White</td>\n",
       "      <td>Male</td>\n",
       "      <td>2174</td>\n",
       "      <td>0</td>\n",
       "      <td>40</td>\n",
       "      <td>United-States</td>\n",
       "      <td>&lt;=50K</td>\n",
       "    </tr>\n",
       "    <tr>\n",
       "      <th>1</th>\n",
       "      <td>50</td>\n",
       "      <td>Self-emp-not-inc</td>\n",
       "      <td>83311</td>\n",
       "      <td>Bachelors</td>\n",
       "      <td>13</td>\n",
       "      <td>Married-civ-spouse</td>\n",
       "      <td>Exec-managerial</td>\n",
       "      <td>Husband</td>\n",
       "      <td>White</td>\n",
       "      <td>Male</td>\n",
       "      <td>0</td>\n",
       "      <td>0</td>\n",
       "      <td>13</td>\n",
       "      <td>United-States</td>\n",
       "      <td>&lt;=50K</td>\n",
       "    </tr>\n",
       "    <tr>\n",
       "      <th>2</th>\n",
       "      <td>38</td>\n",
       "      <td>Private</td>\n",
       "      <td>215646</td>\n",
       "      <td>HS-grad</td>\n",
       "      <td>9</td>\n",
       "      <td>Divorced</td>\n",
       "      <td>Handlers-cleaners</td>\n",
       "      <td>Not-in-family</td>\n",
       "      <td>White</td>\n",
       "      <td>Male</td>\n",
       "      <td>0</td>\n",
       "      <td>0</td>\n",
       "      <td>40</td>\n",
       "      <td>United-States</td>\n",
       "      <td>&lt;=50K</td>\n",
       "    </tr>\n",
       "    <tr>\n",
       "      <th>3</th>\n",
       "      <td>53</td>\n",
       "      <td>Private</td>\n",
       "      <td>234721</td>\n",
       "      <td>11th</td>\n",
       "      <td>7</td>\n",
       "      <td>Married-civ-spouse</td>\n",
       "      <td>Handlers-cleaners</td>\n",
       "      <td>Husband</td>\n",
       "      <td>Black</td>\n",
       "      <td>Male</td>\n",
       "      <td>0</td>\n",
       "      <td>0</td>\n",
       "      <td>40</td>\n",
       "      <td>United-States</td>\n",
       "      <td>&lt;=50K</td>\n",
       "    </tr>\n",
       "    <tr>\n",
       "      <th>4</th>\n",
       "      <td>28</td>\n",
       "      <td>Private</td>\n",
       "      <td>338409</td>\n",
       "      <td>Bachelors</td>\n",
       "      <td>13</td>\n",
       "      <td>Married-civ-spouse</td>\n",
       "      <td>Prof-specialty</td>\n",
       "      <td>Wife</td>\n",
       "      <td>Black</td>\n",
       "      <td>Female</td>\n",
       "      <td>0</td>\n",
       "      <td>0</td>\n",
       "      <td>40</td>\n",
       "      <td>Cuba</td>\n",
       "      <td>&lt;=50K</td>\n",
       "    </tr>\n",
       "  </tbody>\n",
       "</table>\n",
       "</div>"
      ],
      "text/plain": [
       "   age         workclass  fnlwgt  education  education-num  \\\n",
       "0   39         State-gov   77516  Bachelors             13   \n",
       "1   50  Self-emp-not-inc   83311  Bachelors             13   \n",
       "2   38           Private  215646    HS-grad              9   \n",
       "3   53           Private  234721       11th              7   \n",
       "4   28           Private  338409  Bachelors             13   \n",
       "\n",
       "       marital-status         occupation   relationship   race     sex  \\\n",
       "0       Never-married       Adm-clerical  Not-in-family  White    Male   \n",
       "1  Married-civ-spouse    Exec-managerial        Husband  White    Male   \n",
       "2            Divorced  Handlers-cleaners  Not-in-family  White    Male   \n",
       "3  Married-civ-spouse  Handlers-cleaners        Husband  Black    Male   \n",
       "4  Married-civ-spouse     Prof-specialty           Wife  Black  Female   \n",
       "\n",
       "   capital-gain  capital-loss  hours-per-week native-country income  \n",
       "0          2174             0              40  United-States  <=50K  \n",
       "1             0             0              13  United-States  <=50K  \n",
       "2             0             0              40  United-States  <=50K  \n",
       "3             0             0              40  United-States  <=50K  \n",
       "4             0             0              40           Cuba  <=50K  "
      ]
     },
     "execution_count": 3,
     "metadata": {},
     "output_type": "execute_result"
    }
   ],
   "source": [
    "# fetch dataset \n",
    "df = pd.read_csv('adult_data.csv')\n",
    "df.head()"
   ]
  },
  {
   "cell_type": "code",
   "execution_count": 4,
   "id": "257e31a1-7d15-4963-b79a-8cd6d8d3ac6b",
   "metadata": {},
   "outputs": [],
   "source": [
    "# Drop rows with missing values\n",
    "df = df.dropna()"
   ]
  },
  {
   "cell_type": "code",
   "execution_count": 5,
   "id": "a16b6f29-b9c9-48b9-b14f-7158a87e9823",
   "metadata": {},
   "outputs": [],
   "source": [
    "# Define the dictionary for renaming columns\n",
    "cols_rename = {\n",
    "    'age': 'age',\n",
    "    'workclass': 'workclass',\n",
    "    'fnlwgt': 'fnl_wgt',\n",
    "    'education': 'education',\n",
    "    'education-num': 'education_num',\n",
    "    'marital-status': 'marital_status',\n",
    "    'occupation': 'occupation',\n",
    "    'relationship': 'relationship',\n",
    "    'race': 'race',\n",
    "    'sex': 'sex',\n",
    "    'capital-gain': 'capital_gain',\n",
    "    'capital-loss': 'capital_loss',\n",
    "    'hours-per-week': 'hours_per_week',\n",
    "    'native-country': 'native_country',\n",
    "    'income': 'income'\n",
    "}\n",
    "\n",
    "# Rename columns in the DataFrame\n",
    "df.rename(columns=cols_rename, inplace=True)"
   ]
  },
  {
   "cell_type": "code",
   "execution_count": 6,
   "id": "cb9c01ca-e439-41f1-95fd-a4c9b4cf06a8",
   "metadata": {},
   "outputs": [],
   "source": [
    "df['income'] = df['income'].str.replace('<=50K.', '<=50K', regex=True).str.replace('>50K.', '>50K', regex=True)"
   ]
  },
  {
   "cell_type": "code",
   "execution_count": 7,
   "id": "2e237662-fd90-46e2-8c7a-ca11aa06d85b",
   "metadata": {},
   "outputs": [],
   "source": [
    "df['income'] = ['0' if value == '<=50K' else '1' for value in df['income']]"
   ]
  },
  {
   "cell_type": "code",
   "execution_count": 8,
   "id": "db669c76-90ac-4a65-bc21-efdb212ee4f3",
   "metadata": {},
   "outputs": [],
   "source": [
    "df['income'] = df['income'].astype('int')"
   ]
  },
  {
   "cell_type": "code",
   "execution_count": 9,
   "id": "6df41fa9-59dd-4d4c-bf5d-5d66934922b0",
   "metadata": {},
   "outputs": [
    {
     "name": "stderr",
     "output_type": "stream",
     "text": [
      "24/04/28 13:28:38 WARN GarbageCollectionMetrics: To enable non-built-in garbage collector(s) List(G1 Concurrent GC), users should configure it(them) to spark.eventLog.gcMetrics.youngGenerationGarbageCollectors or spark.eventLog.gcMetrics.oldGenerationGarbageCollectors\n",
      "                                                                                \r"
     ]
    },
    {
     "name": "stdout",
     "output_type": "stream",
     "text": [
      "+---+----------------+-------+------------+-------------+--------------------+-----------------+-------------+------------------+------+------------+------------+--------------+--------------+------+\n",
      "|age|       workclass|fnl_wgt|   education|education_num|      marital_status|       occupation| relationship|              race|   sex|capital_gain|capital_loss|hours_per_week|native_country|income|\n",
      "+---+----------------+-------+------------+-------------+--------------------+-----------------+-------------+------------------+------+------------+------------+--------------+--------------+------+\n",
      "| 39|       State-gov|  77516|   Bachelors|           13|       Never-married|     Adm-clerical|Not-in-family|             White|  Male|        2174|           0|            40| United-States|     0|\n",
      "| 50|Self-emp-not-inc|  83311|   Bachelors|           13|  Married-civ-spouse|  Exec-managerial|      Husband|             White|  Male|           0|           0|            13| United-States|     0|\n",
      "| 38|         Private| 215646|     HS-grad|            9|            Divorced|Handlers-cleaners|Not-in-family|             White|  Male|           0|           0|            40| United-States|     0|\n",
      "| 53|         Private| 234721|        11th|            7|  Married-civ-spouse|Handlers-cleaners|      Husband|             Black|  Male|           0|           0|            40| United-States|     0|\n",
      "| 28|         Private| 338409|   Bachelors|           13|  Married-civ-spouse|   Prof-specialty|         Wife|             Black|Female|           0|           0|            40|          Cuba|     0|\n",
      "| 37|         Private| 284582|     Masters|           14|  Married-civ-spouse|  Exec-managerial|         Wife|             White|Female|           0|           0|            40| United-States|     0|\n",
      "| 49|         Private| 160187|         9th|            5|Married-spouse-ab...|    Other-service|Not-in-family|             Black|Female|           0|           0|            16|       Jamaica|     0|\n",
      "| 52|Self-emp-not-inc| 209642|     HS-grad|            9|  Married-civ-spouse|  Exec-managerial|      Husband|             White|  Male|           0|           0|            45| United-States|     1|\n",
      "| 31|         Private|  45781|     Masters|           14|       Never-married|   Prof-specialty|Not-in-family|             White|Female|       14084|           0|            50| United-States|     1|\n",
      "| 42|         Private| 159449|   Bachelors|           13|  Married-civ-spouse|  Exec-managerial|      Husband|             White|  Male|        5178|           0|            40| United-States|     1|\n",
      "| 37|         Private| 280464|Some-college|           10|  Married-civ-spouse|  Exec-managerial|      Husband|             Black|  Male|           0|           0|            80| United-States|     1|\n",
      "| 30|       State-gov| 141297|   Bachelors|           13|  Married-civ-spouse|   Prof-specialty|      Husband|Asian-Pac-Islander|  Male|           0|           0|            40|         India|     1|\n",
      "| 23|         Private| 122272|   Bachelors|           13|       Never-married|     Adm-clerical|    Own-child|             White|Female|           0|           0|            30| United-States|     0|\n",
      "| 32|         Private| 205019|  Assoc-acdm|           12|       Never-married|            Sales|Not-in-family|             Black|  Male|           0|           0|            50| United-States|     0|\n",
      "| 40|         Private| 121772|   Assoc-voc|           11|  Married-civ-spouse|     Craft-repair|      Husband|Asian-Pac-Islander|  Male|           0|           0|            40|             ?|     1|\n",
      "| 34|         Private| 245487|     7th-8th|            4|  Married-civ-spouse| Transport-moving|      Husband|Amer-Indian-Eskimo|  Male|           0|           0|            45|        Mexico|     0|\n",
      "| 25|Self-emp-not-inc| 176756|     HS-grad|            9|       Never-married|  Farming-fishing|    Own-child|             White|  Male|           0|           0|            35| United-States|     0|\n",
      "| 32|         Private| 186824|     HS-grad|            9|       Never-married|Machine-op-inspct|    Unmarried|             White|  Male|           0|           0|            40| United-States|     0|\n",
      "| 38|         Private|  28887|        11th|            7|  Married-civ-spouse|            Sales|      Husband|             White|  Male|           0|           0|            50| United-States|     0|\n",
      "| 43|Self-emp-not-inc| 292175|     Masters|           14|            Divorced|  Exec-managerial|    Unmarried|             White|Female|           0|           0|            45| United-States|     1|\n",
      "+---+----------------+-------+------------+-------------+--------------------+-----------------+-------------+------------------+------+------------+------------+--------------+--------------+------+\n",
      "only showing top 20 rows\n",
      "\n"
     ]
    }
   ],
   "source": [
    "# Convert pandas DataFrame to Spark DataFrame\n",
    "df_spark = spark.createDataFrame(df)\n",
    "\n",
    "# Show the Spark DataFrame\n",
    "df_spark.show()"
   ]
  },
  {
   "cell_type": "code",
   "execution_count": 10,
   "id": "ab49c255-9ecd-4d97-94d7-3eb97b12f11f",
   "metadata": {},
   "outputs": [],
   "source": [
    "#  Drop irrelevant columns\n",
    "columns_to_drop = ['workclass', 'education_num', 'fnl_wgt']\n",
    "df_spark = df_spark.drop(*columns_to_drop)"
   ]
  },
  {
   "cell_type": "code",
   "execution_count": 11,
   "id": "01b834cf-a8f2-4433-9de0-ac174b3cbb14",
   "metadata": {},
   "outputs": [],
   "source": [
    "# Replace question marks with 'Unknown' in all columns\n",
    "df_spark = df_spark.replace('?', 'Unknown')"
   ]
  },
  {
   "cell_type": "code",
   "execution_count": 12,
   "id": "a2fc11a9-f293-477c-87ad-71e6d147ea70",
   "metadata": {},
   "outputs": [
    {
     "name": "stderr",
     "output_type": "stream",
     "text": [
      "                                                                                \r"
     ]
    },
    {
     "name": "stdout",
     "output_type": "stream",
     "text": [
      "Unique values in column 'age': [29, 26, 65, 54, 19, 22, 77, 34, 50, 57, 32, 43, 84, 31, 39, 25, 71, 68, 72, 58, 27, 63, 56, 51, 52, 79, 17, 41, 28, 33, 88, 85, 48, 67, 44, 61, 37, 83, 55, 74, 62, 49, 35, 80, 66, 76, 36, 75, 78, 18, 69, 21, 59, 81, 38, 82, 42, 30, 73, 90, 23, 46, 20, 70, 60, 40, 64, 53, 45, 47, 24, 87, 86, 89]\n",
      "Unique values in column 'education': ['Masters', '10th', '5th-6th', 'Assoc-acdm', 'Assoc-voc', '7th-8th', '9th', 'HS-grad', 'Bachelors', '11th', '1st-4th', 'Preschool', '12th', 'Doctorate', 'Some-college', 'Prof-school']\n",
      "Unique values in column 'marital_status': ['Separated', 'Never-married', 'Married-spouse-absent', 'Divorced', 'Widowed', 'Married-AF-spouse', 'Married-civ-spouse']\n",
      "Unique values in column 'occupation': ['Sales', 'Exec-managerial', 'Prof-specialty', 'Handlers-cleaners', 'Farming-fishing', 'Craft-repair', 'Unknown', 'Transport-moving', 'Priv-house-serv', 'Protective-serv', 'Other-service', 'Tech-support', 'Machine-op-inspct', 'Armed-Forces', 'Adm-clerical']\n",
      "Unique values in column 'relationship': ['Own-child', 'Not-in-family', 'Unmarried', 'Wife', 'Other-relative', 'Husband']\n",
      "Unique values in column 'race': ['Other', 'Amer-Indian-Eskimo', 'White', 'Asian-Pac-Islander', 'Black']\n",
      "Unique values in column 'sex': ['Female', 'Male']\n",
      "Unique values in column 'capital_gain': [5556, 1409, 0, 25124, 1055, 11678, 10520, 2961, 10566, 5721, 1471, 25236, 5455, 5013, 2414, 14344, 4934, 3781, 3818, 3432, 3464, 2176, 1831, 2346, 3942, 2354, 3418, 14084, 2885, 3137, 7430, 2635, 9562, 3887, 114, 2062, 4650, 2050, 3103, 2228, 1151, 4508, 13550, 7896, 3456, 2463, 2036, 4101, 1424, 3471, 4416, 3908, 2964, 9386, 6497, 34095, 2580, 2202, 5178, 7688, 4386, 1506, 27828, 3411, 2829, 15020, 2174, 3674, 6767, 4931, 2936, 914, 991, 10605, 2329, 2538, 4865, 8614, 15831, 1455, 2290, 1086, 6418, 594, 3273, 6849, 2977, 3325, 2907, 6514, 2105, 22040, 2597, 401, 1848, 2407, 99999, 20051, 41310, 1111, 4787, 15024, 4064, 7298, 18481, 1639, 2653, 7978, 2009, 6360, 1173, 1797, 7443, 2993, 4687, 6097, 6723, 1264, 7262, 5060, 2387, 1731]\n",
      "Unique values in column 'capital_loss': [1258, 0, 1594, 1740, 2282, 1887, 1816, 2149, 1485, 2377, 974, 1504, 1602, 880, 1721, 1902, 1669, 2444, 1762, 2415, 3004, 2051, 2824, 1741, 1726, 2231, 419, 2238, 4356, 2339, 1876, 1651, 2205, 2559, 1617, 2547, 323, 2206, 653, 213, 1340, 1977, 2392, 2352, 1672, 2002, 2174, 1138, 2179, 2129, 1648, 1668, 1590, 1719, 1825, 1408, 1980, 810, 1380, 1628, 2258, 1573, 1974, 1735, 1579, 2042, 1848, 2057, 1564, 1844, 2001, 1539, 2603, 625, 2246, 1092, 155, 2489, 2080, 2201, 1944, 3770, 3900, 3683, 2457, 2467, 2267, 1755, 3175, 2472, 1429, 2163, 2754, 1411, 1911, 1510, 1421, 1870]\n",
      "Unique values in column 'hours_per_week': [26, 29, 65, 54, 19, 22, 7, 77, 34, 50, 94, 57, 43, 32, 84, 31, 98, 39, 25, 6, 68, 72, 87, 58, 9, 27, 63, 56, 51, 52, 17, 41, 28, 33, 88, 5, 1, 96, 10, 89, 85, 48, 67, 44, 3, 37, 12, 55, 8, 62, 11, 49, 35, 80, 2, 66, 4, 13, 36, 75, 78, 18, 14, 21, 59, 15, 38, 82, 97, 30, 42, 73, 90, 23, 46, 20, 70, 99, 60, 40, 16, 64, 45, 47, 53, 24, 61, 76, 92, 81, 86, 91, 95, 74, 79, 69]\n",
      "Unique values in column 'native_country': ['Philippines', 'Germany', 'Cambodia', 'France', 'Greece', 'Taiwan', 'Ecuador', 'Nicaragua', 'Hong', 'Peru', 'India', 'China', 'Unknown', 'Italy', 'Cuba', 'South', 'Iran', 'Ireland', 'Thailand', 'Laos', 'El-Salvador', 'Mexico', 'Guatemala', 'Honduras', 'Yugoslavia', 'Puerto-Rico', 'Jamaica', 'Canada', 'United-States', 'Dominican-Republic', 'Outlying-US(Guam-USVI-etc)', 'Japan', 'England', 'Haiti', 'Poland', 'Portugal', 'Columbia', 'Scotland', 'Hungary', 'Vietnam', 'Trinadad&Tobago', 'Holand-Netherlands']\n",
      "Unique values in column 'income': [0, 1]\n"
     ]
    }
   ],
   "source": [
    "# Iterate over each column and print unique values\n",
    "for col_name in df_spark.columns:\n",
    "    unique_values = df_spark.select(col(col_name)).distinct().collect()\n",
    "    unique_values_list = [row[0] for row in unique_values]\n",
    "    print(f\"Unique values in column '{col_name}': {unique_values_list}\")"
   ]
  },
  {
   "cell_type": "code",
   "execution_count": null,
   "id": "5ac28351-6a33-4f97-b4c5-74673717afcd",
   "metadata": {},
   "outputs": [],
   "source": [
    "# StringIndexer for categorical columns\n",
    "indexer_education = StringIndexer(inputCol='education', outputCol='education_index', handleInvalid='keep')\n",
    "indexer_marital_status = StringIndexer(inputCol='marital_status', outputCol='marital_status_index', handleInvalid='keep')\n",
    "indexer_occupation = StringIndexer(inputCol='occupation', outputCol='occupation_index', handleInvalid='keep')\n",
    "indexer_relationship = StringIndexer(inputCol='relationship', outputCol='relationship_index', handleInvalid='keep')\n",
    "indexer_race = StringIndexer(inputCol='race', outputCol='race_index', handleInvalid='keep')\n",
    "indexer_sex = StringIndexer(inputCol='sex', outputCol='sex_index', handleInvalid='keep')\n",
    "indexer_native_country = StringIndexer(inputCol='native_country', outputCol='native_country_index', handleInvalid='keep')"
   ]
  },
  {
   "cell_type": "code",
   "execution_count": 13,
   "id": "1d5d275b-818d-4ca5-9502-d8cf0507dd42",
   "metadata": {},
   "outputs": [
    {
     "data": {
      "text/plain": [
       "['age',\n",
       " 'education',\n",
       " 'marital_status',\n",
       " 'occupation',\n",
       " 'relationship',\n",
       " 'race',\n",
       " 'sex',\n",
       " 'capital_gain',\n",
       " 'capital_loss',\n",
       " 'hours_per_week',\n",
       " 'native_country',\n",
       " 'income']"
      ]
     },
     "execution_count": 13,
     "metadata": {},
     "output_type": "execute_result"
    }
   ],
   "source": [
    "df_spark.columns"
   ]
  },
  {
   "cell_type": "code",
   "execution_count": 14,
   "id": "4009fe64-f1fb-41f4-a02c-0cbf2c93653d",
   "metadata": {},
   "outputs": [],
   "source": [
    "train_data, test_data = df_spark.randomSplit([0.8, 0.2], seed=42)"
   ]
  },
  {
   "cell_type": "code",
   "execution_count": 15,
   "id": "fa991122-3229-4bb3-81f6-db83bd9f1d85",
   "metadata": {},
   "outputs": [
    {
     "data": {
      "text/plain": [
       "(DataFrame[age: bigint, education: string, marital_status: string, occupation: string, relationship: string, race: string, sex: string, capital_gain: bigint, capital_loss: bigint, hours_per_week: bigint, native_country: string, income: bigint],\n",
       " DataFrame[age: bigint, education: string, marital_status: string, occupation: string, relationship: string, race: string, sex: string, capital_gain: bigint, capital_loss: bigint, hours_per_week: bigint, native_country: string, income: bigint])"
      ]
     },
     "execution_count": 15,
     "metadata": {},
     "output_type": "execute_result"
    }
   ],
   "source": [
    "train_data, test_data"
   ]
  },
  {
   "cell_type": "code",
   "execution_count": 30,
   "id": "d151dc0c-76b0-4a6d-ac12-a6fd1d6215ae",
   "metadata": {},
   "outputs": [
    {
     "name": "stderr",
     "output_type": "stream",
     "text": [
      "                                                                                \r"
     ]
    }
   ],
   "source": [
    "# Define numeric columns\n",
    "numeric_cols = ['age', 'capital_gain', 'capital_loss', 'hours_per_week']\n",
    "\n",
    "# Define categorical columns\n",
    "categorical_cols = ['education', 'marital_status', 'occupation', 'relationship', 'race', 'sex', 'native_country']\n",
    "\n",
    "# Define transformers for numeric columns\n",
    "numeric_assembler = VectorAssembler(inputCols=numeric_cols, outputCol='numeric_features')\n",
    "scaler = StandardScaler(inputCol='numeric_features', outputCol='scaled_numeric_features')\n",
    "\n",
    "# Define transformers for categorical columns\n",
    "indexers = [StringIndexer(inputCol=col, outputCol=col+'_index', handleInvalid='keep') for col in categorical_cols]\n",
    "encoder = OneHotEncoder(inputCols=[col+'_index' for col in categorical_cols], \n",
    "                        outputCols=[col+'_encoded' for col in categorical_cols])\n",
    "\n",
    "# Define VectorAssembler for features\n",
    "assembler = VectorAssembler(inputCols=['scaled_numeric_features'] + [col+'_encoded' for col in categorical_cols], \n",
    "                            outputCol='features')\n",
    "\n",
    "# Define Decision Tree Classifier\n",
    "dt = DecisionTreeClassifier(featuresCol='features', labelCol='income')\n",
    "\n",
    "# Create Pipeline\n",
    "pipeline = Pipeline(stages=[numeric_assembler, scaler] + indexers + [encoder, assembler, dt])\n",
    "\n",
    "# Fit Pipeline on Training Data\n",
    "pipeline_model = pipeline.fit(train_data)"
   ]
  },
  {
   "cell_type": "code",
   "execution_count": 31,
   "id": "6438101a-f6aa-4e00-b5b8-f03ef1db238f",
   "metadata": {},
   "outputs": [
    {
     "name": "stderr",
     "output_type": "stream",
     "text": [
      "                                                                                \r"
     ]
    },
    {
     "name": "stdout",
     "output_type": "stream",
     "text": [
      "Train ROC AUC: 0.6621526487864421\n",
      "Test ROC AUC: 0.6643192029669447\n"
     ]
    }
   ],
   "source": [
    "# Transform Train Data\n",
    "train_predictions = pipeline_model.transform(train_data)\n",
    "\n",
    "# Transform Test Data\n",
    "test_predictions = pipeline_model.transform(test_data)\n",
    "\n",
    "# Evaluate Model on Train Data\n",
    "evaluator = BinaryClassificationEvaluator(labelCol='income', metricName='areaUnderROC')\n",
    "train_roc_auc = evaluator.evaluate(train_predictions)\n",
    "print(\"Train ROC AUC:\", train_roc_auc)\n",
    "\n",
    "# Evaluate Model on Test Data\n",
    "test_roc_auc = evaluator.evaluate(test_predictions)\n",
    "print(\"Test ROC AUC:\", test_roc_auc)"
   ]
  },
  {
   "cell_type": "code",
   "execution_count": null,
   "id": "2327c224-c458-4a08-a706-55bd530a8380",
   "metadata": {},
   "outputs": [],
   "source": []
  }
 ],
 "metadata": {
  "kernelspec": {
   "display_name": "Python 3 (ipykernel)",
   "language": "python",
   "name": "python3"
  },
  "language_info": {
   "codemirror_mode": {
    "name": "ipython",
    "version": 3
   },
   "file_extension": ".py",
   "mimetype": "text/x-python",
   "name": "python",
   "nbconvert_exporter": "python",
   "pygments_lexer": "ipython3",
   "version": "3.11.7"
  }
 },
 "nbformat": 4,
 "nbformat_minor": 5
}
